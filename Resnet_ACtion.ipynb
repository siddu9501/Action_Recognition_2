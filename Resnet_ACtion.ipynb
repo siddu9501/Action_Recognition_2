{
 "cells": [
  {
   "cell_type": "code",
   "execution_count": 1,
   "metadata": {},
   "outputs": [],
   "source": [
    "import numpy as np\n",
    "import torch\n",
    "from torch.autograd import Variable\n",
    "import torch.nn as nn\n",
    "import torch.nn.functional as F"
   ]
  },
  {
   "cell_type": "code",
   "execution_count": 2,
   "metadata": {},
   "outputs": [],
   "source": [
    "import torchvision.models as models"
   ]
  },
  {
   "cell_type": "code",
   "execution_count": 3,
   "metadata": {},
   "outputs": [],
   "source": [
    "net = models.resnet18(pretrained=False)"
   ]
  },
  {
   "cell_type": "code",
   "execution_count": 4,
   "metadata": {},
   "outputs": [],
   "source": [
    "net.fc = nn.Linear(512,5)"
   ]
  },
  {
   "cell_type": "code",
   "execution_count": 5,
   "metadata": {},
   "outputs": [],
   "source": [
    "#net = Model()\n",
    "net = net.cuda()"
   ]
  },
  {
   "cell_type": "code",
   "execution_count": 6,
   "metadata": {},
   "outputs": [
    {
     "data": {
      "text/plain": [
       "True"
      ]
     },
     "execution_count": 6,
     "metadata": {},
     "output_type": "execute_result"
    }
   ],
   "source": [
    "torch.cuda.is_available()"
   ]
  },
  {
   "cell_type": "code",
   "execution_count": 7,
   "metadata": {},
   "outputs": [],
   "source": [
    "reading = np.load('reading_np.npy')\n",
    "phn = np.load('phone_np.npy')\n",
    "drinking = np.load('drinking_np.npy')\n",
    "cleaning = np.load('cleaning_np.npy')\n",
    "#walking = np.load('walking_np.npy')\n",
    "cutting = np.load('cutting_np.npy')\n",
    "\n",
    "X = np.concatenate((reading, phn, drinking, cleaning, cutting), axis = 0)\n",
    "# X = np.concatenate((reading, phn, drinking), axis = 0)\n",
    "\n",
    "y_reading = np.full(50,0)\n",
    "y_phn = np.full(50,1)\n",
    "y_drink = np.full(50,2)\n",
    "y_cleaning = np.full(50,3)\n",
    "#y_walking = np.full(50,4)\n",
    "y_cutting = np.full(50,4)\n",
    "\n",
    "Y = np.concatenate((y_reading, y_phn, y_drink, y_cleaning, y_cutting), axis = 0)\n",
    "# Y = np.concatenate((y_reading, y_phn, y_drink), axis = 0)"
   ]
  },
  {
   "cell_type": "code",
   "execution_count": 8,
   "metadata": {},
   "outputs": [],
   "source": [
    "# Y = np.load('labels.npy')\n",
    "# Y = Y - 1\n",
    "# X = np.load('x.npy')\n",
    "# X = np.array(X, dtype=float)\n",
    "\n",
    "train_x_lh = X[:,:,4:8,:]\n",
    "train_x_rh = X[:,:,8:12,:]\n",
    "train_x_ll = X[:,:,12:16,:]\n",
    "train_x_rl = X[:,:,16:20,:]\n",
    "train_x_t = X[:,:,0:4,:]\n",
    "\n",
    "final_x = np.concatenate((train_x_lh, train_x_rh), axis=2)\n",
    "final_x = np.concatenate((final_x, train_x_t), axis=2)\n",
    "final_x = np.concatenate((final_x, train_x_rl), axis=2)\n",
    "final_x = np.concatenate((final_x, train_x_ll), axis=2)\n",
    "\n",
    "X = final_x"
   ]
  },
  {
   "cell_type": "code",
   "execution_count": 9,
   "metadata": {},
   "outputs": [
    {
     "data": {
      "text/plain": [
       "(250, 100, 20, 3)"
      ]
     },
     "execution_count": 9,
     "metadata": {},
     "output_type": "execute_result"
    }
   ],
   "source": [
    "X.shape"
   ]
  },
  {
   "cell_type": "code",
   "execution_count": 10,
   "metadata": {},
   "outputs": [],
   "source": [
    "#### Preprocessing to make the image.\n",
    "min_ = X.min(axis=(0,1,2))\n",
    "max_ = X.max(axis = (0,1,2))\n",
    "X_normed = 255*(X - min_)/(max_ - min_)\n"
   ]
  },
  {
   "cell_type": "code",
   "execution_count": 47,
   "metadata": {},
   "outputs": [
    {
     "data": {
      "text/plain": [
       "array([-1.08857226, -0.96385038,  1.34686899])"
      ]
     },
     "execution_count": 47,
     "metadata": {},
     "output_type": "execute_result"
    }
   ],
   "source": [
    "min_"
   ]
  },
  {
   "cell_type": "code",
   "execution_count": 48,
   "metadata": {},
   "outputs": [
    {
     "data": {
      "text/plain": [
       "array([1.50460005, 1.26765823, 4.08341026])"
      ]
     },
     "execution_count": 48,
     "metadata": {},
     "output_type": "execute_result"
    }
   ],
   "source": [
    "max_"
   ]
  },
  {
   "cell_type": "code",
   "execution_count": 11,
   "metadata": {},
   "outputs": [
    {
     "data": {
      "text/plain": [
       "(250, 100, 20, 3)"
      ]
     },
     "execution_count": 11,
     "metadata": {},
     "output_type": "execute_result"
    }
   ],
   "source": [
    "X.shape\n"
   ]
  },
  {
   "cell_type": "code",
   "execution_count": 12,
   "metadata": {},
   "outputs": [],
   "source": [
    "X_normed = np.pad(X_normed,[(0,0),(62,62),(102,102),(0,0)], 'constant')\n",
    "X = X_normed"
   ]
  },
  {
   "cell_type": "code",
   "execution_count": 13,
   "metadata": {},
   "outputs": [],
   "source": [
    "# X_normed = np.pad(X_normed,[(0,0),(37,37),(102,102),(0,0)], 'constant')\n",
    "# X = X_normed"
   ]
  },
  {
   "cell_type": "code",
   "execution_count": 14,
   "metadata": {},
   "outputs": [
    {
     "data": {
      "text/plain": [
       "(250, 224, 224, 3)"
      ]
     },
     "execution_count": 14,
     "metadata": {},
     "output_type": "execute_result"
    }
   ],
   "source": [
    "X_normed.shape"
   ]
  },
  {
   "cell_type": "code",
   "execution_count": 15,
   "metadata": {},
   "outputs": [],
   "source": [
    "N = Y.shape[0]"
   ]
  },
  {
   "cell_type": "code",
   "execution_count": 16,
   "metadata": {},
   "outputs": [],
   "source": [
    "s = np.arange(X.shape[0])\n",
    "np.random.shuffle(s)\n",
    "shuffled_x = X[s]\n",
    "shuffled_y = Y[s]\n"
   ]
  },
  {
   "cell_type": "code",
   "execution_count": 17,
   "metadata": {},
   "outputs": [],
   "source": [
    "train_x = shuffled_x[0:int(0.8*N)]\n",
    "train_y = shuffled_y[0:int(0.8*N)]\n",
    "test_x = shuffled_x[int(0.8*N):]\n",
    "test_y = shuffled_y[int(0.8*N):]"
   ]
  },
  {
   "cell_type": "code",
   "execution_count": 18,
   "metadata": {},
   "outputs": [],
   "source": [
    "train_x = Variable(torch.from_numpy(train_x)).float().cuda()\n",
    "train_x = train_x.permute(0,3,1,2).contiguous()\n",
    "test_x = Variable(torch.from_numpy(test_x)).float().cuda()\n",
    "test_x = test_x.permute(0,3,1,2).contiguous()\n",
    "labels = Variable(torch.from_numpy(train_y)).cuda()\n",
    "test_y = Variable(torch.from_numpy(test_y)).cuda()"
   ]
  },
  {
   "cell_type": "code",
   "execution_count": 19,
   "metadata": {},
   "outputs": [
    {
     "data": {
      "text/plain": [
       "torch.Size([50, 3, 224, 224])"
      ]
     },
     "execution_count": 19,
     "metadata": {},
     "output_type": "execute_result"
    }
   ],
   "source": [
    "test_x.shape"
   ]
  },
  {
   "cell_type": "code",
   "execution_count": 20,
   "metadata": {},
   "outputs": [
    {
     "data": {
      "text/plain": [
       "torch.Size([200, 3, 224, 224])"
      ]
     },
     "execution_count": 20,
     "metadata": {},
     "output_type": "execute_result"
    }
   ],
   "source": [
    "train_x.shape"
   ]
  },
  {
   "cell_type": "code",
   "execution_count": 21,
   "metadata": {},
   "outputs": [],
   "source": [
    "BATCH_SIZE = 32\n",
    "num_epochs = 20\n",
    "num_batches = train_x.shape[0]/BATCH_SIZE\n",
    "num_test_batches = test_x.shape[0]/BATCH_SIZE\n",
    "criterion = nn.CrossEntropyLoss()\n",
    "optimizer = torch.optim.Adam(net.parameters(), lr = 0.001)"
   ]
  },
  {
   "cell_type": "code",
   "execution_count": 22,
   "metadata": {},
   "outputs": [
    {
     "name": "stdout",
     "output_type": "stream",
     "text": [
      "Epoch [1/20], Loss: 1.2395, Test Loss: 0.8042\n",
      "Epoch [2/20], Loss: 0.8188, Test Loss: 0.2906\n",
      "Epoch [3/20], Loss: 0.6451, Test Loss: 0.2548\n",
      "Epoch [4/20], Loss: 0.5232, Test Loss: 0.2283\n",
      "Epoch [5/20], Loss: 0.4499, Test Loss: 0.2124\n",
      "Epoch [6/20], Loss: 0.4742, Test Loss: 0.2487\n",
      "Epoch [7/20], Loss: 0.3134, Test Loss: 0.2501\n",
      "Epoch [8/20], Loss: 0.2977, Test Loss: 0.1931\n",
      "Epoch [9/20], Loss: 0.2098, Test Loss: 0.2910\n",
      "Epoch [10/20], Loss: 0.1704, Test Loss: 0.2183\n",
      "Epoch [11/20], Loss: 0.1588, Test Loss: 0.2862\n",
      "Epoch [12/20], Loss: 0.1659, Test Loss: 0.2348\n",
      "Epoch [13/20], Loss: 0.2560, Test Loss: 0.3047\n",
      "Epoch [14/20], Loss: 0.2254, Test Loss: 0.2356\n",
      "Epoch [15/20], Loss: 0.2507, Test Loss: 0.2533\n",
      "Epoch [16/20], Loss: 0.1922, Test Loss: 0.2702\n",
      "Epoch [17/20], Loss: 0.1064, Test Loss: 0.2426\n",
      "Epoch [18/20], Loss: 0.1271, Test Loss: 0.2331\n",
      "Epoch [19/20], Loss: 0.1193, Test Loss: 0.2805\n",
      "Epoch [20/20], Loss: 0.1113, Test Loss: 0.1910\n"
     ]
    }
   ],
   "source": [
    "for epoch in range(num_epochs):\n",
    "    running_loss = 0\n",
    "    test_running_loss = 0\n",
    "    for batch in range(int(num_test_batches)):\n",
    "        batch_x = test_x[BATCH_SIZE*batch:BATCH_SIZE*(batch+1)]\n",
    "        out = net(batch_x)\n",
    "        loss = criterion(out,test_y[BATCH_SIZE*batch:BATCH_SIZE*(batch+1)].cuda())\n",
    "        test_running_loss += loss.data[0]\n",
    "        test_running_loss = test_running_loss/num_test_batches\n",
    "        #test_loss_list.append(test_running_loss)\n",
    "        \n",
    "    for batch in range(int(num_batches)):\n",
    "        optimizer.zero_grad()\n",
    "        batch_x = train_x[BATCH_SIZE*batch:BATCH_SIZE*(batch+1)]\n",
    "        out = net(batch_x)\n",
    "        loss = criterion(out,labels[BATCH_SIZE*batch:BATCH_SIZE*(batch+1)])\n",
    "        running_loss += loss.data[0]\n",
    "        loss.backward()\n",
    "        optimizer.step()\n",
    "    \n",
    "    print ('Epoch [%d/%d], Loss: %.4f, Test Loss: %.4f' %(epoch+1, num_epochs, running_loss/num_batches, test_running_loss/num_test_batches))"
   ]
  },
  {
   "cell_type": "code",
   "execution_count": 23,
   "metadata": {},
   "outputs": [],
   "source": [
    "def pred(x):\n",
    "    out = net(x)\n",
    "    return np.argmax(out.data.cpu().numpy(), axis=1)\n",
    "def accuracy(x,labels):\n",
    "    N = labels.shape[0]\n",
    "    predicted = pred(x)\n",
    "    i = 0\n",
    "    for yhat,y in zip(predicted,labels):\n",
    "        \n",
    "        if yhat == y[0]:\n",
    "            i += 1\n",
    "    return i"
   ]
  },
  {
   "cell_type": "code",
   "execution_count": 24,
   "metadata": {},
   "outputs": [],
   "source": [
    "predicted = pred(test_x)"
   ]
  },
  {
   "cell_type": "code",
   "execution_count": 25,
   "metadata": {},
   "outputs": [
    {
     "data": {
      "text/plain": [
       "(50,)"
      ]
     },
     "execution_count": 25,
     "metadata": {},
     "output_type": "execute_result"
    }
   ],
   "source": [
    "predicted.shape"
   ]
  },
  {
   "cell_type": "code",
   "execution_count": 26,
   "metadata": {},
   "outputs": [],
   "source": [
    "n_correct = np.sum(predicted == test_y.data.cpu().numpy())"
   ]
  },
  {
   "cell_type": "code",
   "execution_count": 27,
   "metadata": {},
   "outputs": [
    {
     "data": {
      "text/plain": [
       "43"
      ]
     },
     "execution_count": 27,
     "metadata": {},
     "output_type": "execute_result"
    }
   ],
   "source": [
    "n_correct\n"
   ]
  },
  {
   "cell_type": "code",
   "execution_count": 37,
   "metadata": {},
   "outputs": [
    {
     "data": {
      "text/plain": [
       "86.0"
      ]
     },
     "execution_count": 37,
     "metadata": {},
     "output_type": "execute_result"
    }
   ],
   "source": [
    "n_correct *100 / 50"
   ]
  },
  {
   "cell_type": "code",
   "execution_count": 38,
   "metadata": {},
   "outputs": [
    {
     "data": {
      "text/plain": [
       "array([4, 1, 2, 1, 0, 1, 1, 1, 3, 1, 4, 0, 4, 0, 2, 3, 0, 2, 1, 1, 1, 2,\n",
       "       3, 4, 2, 0, 2, 2, 2, 1, 0, 0, 3, 0, 3, 4, 4, 0, 1, 4, 2, 0, 3, 4,\n",
       "       1, 1, 3, 3, 3, 4])"
      ]
     },
     "execution_count": 38,
     "metadata": {},
     "output_type": "execute_result"
    }
   ],
   "source": [
    "predicted"
   ]
  },
  {
   "cell_type": "code",
   "execution_count": 39,
   "metadata": {},
   "outputs": [
    {
     "data": {
      "text/plain": [
       "array([4, 1, 2, 1, 0, 1, 1, 0, 3, 1, 4, 0, 4, 0, 2, 3, 0, 0, 1, 1, 1, 2,\n",
       "       3, 0, 2, 0, 2, 2, 0, 1, 0, 0, 3, 0, 1, 2, 4, 0, 1, 4, 0, 0, 3, 4,\n",
       "       1, 1, 3, 3, 3, 4])"
      ]
     },
     "execution_count": 39,
     "metadata": {},
     "output_type": "execute_result"
    }
   ],
   "source": [
    "test_y.data.cpu().numpy()"
   ]
  },
  {
   "cell_type": "code",
   "execution_count": 40,
   "metadata": {},
   "outputs": [],
   "source": [
    "op = np.load('outputs_np.npy')\n",
    "op = 255*(op - min_)/(max_ - min_)\n",
    "op = np.pad(op,[(0,0),(62,62),(102,102),(0,0)], 'constant')"
   ]
  },
  {
   "cell_type": "code",
   "execution_count": 41,
   "metadata": {},
   "outputs": [],
   "source": [
    "op = Variable(torch.from_numpy(op)).cuda()"
   ]
  },
  {
   "cell_type": "code",
   "execution_count": 42,
   "metadata": {},
   "outputs": [],
   "source": [
    "op = op.repeat(32,1,1,1)"
   ]
  },
  {
   "cell_type": "code",
   "execution_count": 43,
   "metadata": {},
   "outputs": [
    {
     "data": {
      "text/plain": [
       "torch.Size([32, 224, 224, 3])"
      ]
     },
     "execution_count": 43,
     "metadata": {},
     "output_type": "execute_result"
    }
   ],
   "source": [
    "op.shape"
   ]
  },
  {
   "cell_type": "code",
   "execution_count": 44,
   "metadata": {},
   "outputs": [
    {
     "data": {
      "text/plain": [
       "array([0, 0, 0, 0, 0, 0, 0, 0, 0, 0, 0, 0, 0, 0, 0, 0, 0, 0, 0, 0, 0, 0,\n",
       "       0, 0, 0, 0, 0, 0, 0, 0, 0, 0])"
      ]
     },
     "execution_count": 44,
     "metadata": {},
     "output_type": "execute_result"
    }
   ],
   "source": [
    "op = op.permute(0,3,1,2).contiguous()\n",
    "op = op.float()\n",
    "pred(op)"
   ]
  },
  {
   "cell_type": "code",
   "execution_count": null,
   "metadata": {},
   "outputs": [],
   "source": []
  },
  {
   "cell_type": "code",
   "execution_count": null,
   "metadata": {},
   "outputs": [],
   "source": []
  },
  {
   "cell_type": "code",
   "execution_count": 46,
   "metadata": {},
   "outputs": [
    {
     "data": {
      "text/plain": [
       "array([3, 3, 4, 3, 3, 1, 0, 0, 3, 3, 4, 3, 3, 1, 0, 0, 3, 3, 4, 3, 3, 1,\n",
       "       0, 0, 3, 3, 4, 3, 3, 1, 0, 0])"
      ]
     },
     "execution_count": 46,
     "metadata": {},
     "output_type": "execute_result"
    }
   ],
   "source": [
    "op = np.load('test_data_np.npy')\n",
    "min_op = op.min(axis = (0,1,2))\n",
    "max_op = op.max(axis = (0,1,2))\n",
    "\n",
    "op = 255*(op - min_)/(min_op - max_op)\n",
    "op = np.pad(op,[(0,0),(62,62),(102,102),(0,0)], 'constant')\n",
    "op = Variable(torch.from_numpy(op)).cuda()\n",
    "op = op.repeat(4,1,1,1)\n",
    "op = op.permute(0,3,1,2).contiguous()\n",
    "op = op.float()\n",
    "pred(op)"
   ]
  },
  {
   "cell_type": "code",
   "execution_count": null,
   "metadata": {},
   "outputs": [],
   "source": []
  }
 ],
 "metadata": {
  "kernelspec": {
   "display_name": "Python 3",
   "language": "python",
   "name": "python3"
  },
  "language_info": {
   "codemirror_mode": {
    "name": "ipython",
    "version": 3
   },
   "file_extension": ".py",
   "mimetype": "text/x-python",
   "name": "python",
   "nbconvert_exporter": "python",
   "pygments_lexer": "ipython3",
   "version": "3.5.2"
  }
 },
 "nbformat": 4,
 "nbformat_minor": 2
}
