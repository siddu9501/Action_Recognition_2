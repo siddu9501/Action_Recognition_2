{
 "cells": [
  {
   "cell_type": "code",
   "execution_count": 1,
   "metadata": {},
   "outputs": [],
   "source": [
    "import numpy as np\n",
    "import torch\n",
    "from torch.autograd import Variable\n",
    "import torch.nn as nn\n",
    "import torch.nn.functional as F"
   ]
  },
  {
   "cell_type": "code",
   "execution_count": 2,
   "metadata": {},
   "outputs": [],
   "source": [
    "import torchvision.models as models"
   ]
  },
  {
   "cell_type": "code",
   "execution_count": 3,
   "metadata": {},
   "outputs": [
    {
     "name": "stdout",
     "output_type": "stream",
     "text": [
      "64\n",
      "torch.Size([1, 3])\n"
     ]
    }
   ],
   "source": [
    "import torch\n",
    "import torch.nn as nn\n",
    "import torch.nn.functional as F\n",
    "\n",
    "\n",
    "class BasicBlock(nn.Module):\n",
    "    expansion = 1\n",
    "\n",
    "    def __init__(self, in_planes, planes, stride=1):\n",
    "        super(BasicBlock, self).__init__()\n",
    "        self.bn0 = nn.BatchNorm2d(in_planes)\n",
    "\n",
    "        self.conv1 = nn.Conv2d(in_planes, planes, kernel_size=3, stride=stride, padding=1, bias=False)\n",
    "        self.bn1 = nn.BatchNorm2d(planes)\n",
    "        self.conv2 = nn.Conv2d(planes, planes, kernel_size=3, stride=1, padding=1, bias=False)\n",
    "        self.bn2 = nn.BatchNorm2d(planes)\n",
    "        self.dropout = nn.Dropout(0.5)\n",
    "        \n",
    "        self.shortcut = nn.Sequential()\n",
    "        if stride != 1 or in_planes != self.expansion*planes:\n",
    "            self.shortcut = nn.Sequential(\n",
    "                nn.Conv2d(in_planes, self.expansion*planes, kernel_size=1, stride=stride, bias=False),\n",
    "                nn.BatchNorm2d(self.expansion*planes)\n",
    "            )\n",
    "\n",
    "    def forward(self, x):\n",
    "        out = self.conv1(F.relu(self.bn0(x)))\n",
    "        out = F.relu(self.bn2(out))\n",
    "        out = self.conv2(self.dropout(out))\n",
    "        out += self.shortcut(x)\n",
    "        return out\n",
    "\n",
    "\n",
    "class Bottleneck(nn.Module):\n",
    "    expansion = 4\n",
    "\n",
    "    def __init__(self, in_planes, planes, stride=1):\n",
    "        super(Bottleneck, self).__init__()\n",
    "        self.conv1 = nn.Conv2d(in_planes, planes, kernel_size=1, bias=False)\n",
    "        self.bn1 = nn.BatchNorm2d(planes)\n",
    "        self.conv2 = nn.Conv2d(planes, planes, kernel_size=3, stride=stride, padding=1, bias=False)\n",
    "        self.bn2 = nn.BatchNorm2d(planes)\n",
    "        self.conv3 = nn.Conv2d(planes, self.expansion*planes, kernel_size=1, bias=False)\n",
    "        self.bn3 = nn.BatchNorm2d(self.expansion*planes)\n",
    "\n",
    "        self.shortcut = nn.Sequential()\n",
    "        if stride != 1 or in_planes != self.expansion*planes:\n",
    "            self.shortcut = nn.Sequential(\n",
    "                nn.Conv2d(in_planes, self.expansion*planes, kernel_size=1, stride=stride, bias=False),\n",
    "                nn.BatchNorm2d(self.expansion*planes)\n",
    "            )\n",
    "\n",
    "    def forward(self, x):\n",
    "        out = F.relu(self.bn1(self.conv1(x)))\n",
    "        out = F.relu(self.bn2(self.conv2(out)))\n",
    "        out = self.bn3(self.conv3(out))\n",
    "        out += self.shortcut(x)\n",
    "        out = F.relu(out)\n",
    "        return out\n",
    "\n",
    "\n",
    "class ResNet(nn.Module):\n",
    "    def __init__(self, block, num_blocks, num_classes=3):\n",
    "        super(ResNet, self).__init__()\n",
    "        self.in_planes = 16\n",
    "\n",
    "        self.conv1 = nn.Conv2d(3, 16, kernel_size=3, stride=1, padding=1, bias=False)\n",
    "        self.bn1 = nn.BatchNorm2d(16)\n",
    "        self.layer1 = self._make_layer(block, 16, num_blocks[0], stride=1)\n",
    "        self.layer2 = self._make_layer(block, 32, num_blocks[1], stride=2)\n",
    "        self.layer3 = self._make_layer(block, 64, num_blocks[2], stride=2)\n",
    "#         self.layer4 = self._make_layer(block, 512, num_blocks[3], stride=2)\n",
    "        self.linear = nn.Linear(256, num_classes)\n",
    "        print(64*block.expansion)\n",
    "\n",
    "    def _make_layer(self, block, planes, num_blocks, stride):\n",
    "        strides = [stride] + [1]*(num_blocks-1)\n",
    "        layers = []\n",
    "        for stride in strides:\n",
    "            layers.append(block(self.in_planes, planes, stride))\n",
    "            self.in_planes = planes * block.expansion\n",
    "        return nn.Sequential(*layers)\n",
    "\n",
    "    def forward(self, x):\n",
    "        out = F.relu(self.bn1(self.conv1(x)))\n",
    "        out = self.layer1(out)\n",
    "        out = self.layer2(out)\n",
    "        out = self.layer3(out)\n",
    "#         out = self.layer4(out)\n",
    "        out = F.avg_pool2d(out, 4)\n",
    "        out = out.view(out.size(0), -1)\n",
    "        out = self.linear(out)\n",
    "        return out\n",
    "\n",
    "\n",
    "def ResNet18():\n",
    "    return ResNet(BasicBlock, [2,2,2,2])\n",
    "\n",
    "def ResNet34():\n",
    "    return ResNet(BasicBlock, [5,5,5])\n",
    "\n",
    "def ResNet50():\n",
    "    return ResNet(Bottleneck, [3,4,6,3])\n",
    "\n",
    "def ResNet101():\n",
    "    return ResNet(Bottleneck, [3,4,23,3])\n",
    "\n",
    "def ResNet152():\n",
    "    return ResNet(Bottleneck, [3,8,36,3])\n",
    "\n",
    "\n",
    "def test():\n",
    "    net = ResNet34()\n",
    "    y = net(Variable(torch.randn(1,3,32,32)))\n",
    "    print(y.size())\n",
    "\n",
    "test()\n"
   ]
  },
  {
   "cell_type": "code",
   "execution_count": 4,
   "metadata": {},
   "outputs": [
    {
     "name": "stdout",
     "output_type": "stream",
     "text": [
      "64\n"
     ]
    }
   ],
   "source": [
    "net = ResNet18()\n",
    "# net.add_module('final', nn.Linear(1000,16))\n",
    "# net.fc = nn.Linear(2048,16)\n",
    "\n",
    "# class action_net(net):\n",
    "#     def __init__ ( self,pretrained = False ):\n",
    "#         super ( action_net , self ). __init__ ()\n",
    "#         net.__init__ ()\n",
    "#         self.pretrained = False\n",
    "#         self.final = nn.Linear(1000,16)\n",
    "#         if torch.cuda.is_available():\n",
    "#             self.final = self.final.cuda()\n",
    "#     def forward(self,x):\n",
    "#         return self.final(self.fc(x))\n",
    "        "
   ]
  },
  {
   "cell_type": "code",
   "execution_count": null,
   "metadata": {},
   "outputs": [],
   "source": []
  },
  {
   "cell_type": "code",
   "execution_count": 5,
   "metadata": {},
   "outputs": [],
   "source": [
    "if(torch.cuda.is_available()):\n",
    "    net = net.cuda()"
   ]
  },
  {
   "cell_type": "code",
   "execution_count": null,
   "metadata": {},
   "outputs": [],
   "source": []
  },
  {
   "cell_type": "code",
   "execution_count": 6,
   "metadata": {},
   "outputs": [
    {
     "data": {
      "text/plain": [
       "True"
      ]
     },
     "execution_count": 6,
     "metadata": {},
     "output_type": "execute_result"
    }
   ],
   "source": [
    "torch.cuda.is_available()"
   ]
  },
  {
   "cell_type": "code",
   "execution_count": 7,
   "metadata": {},
   "outputs": [],
   "source": [
    "# Y = np.load('labels.npy')\n",
    "# Y = Y-1\n",
    "# X = np.load('x.npy')\n",
    "# X = np.array(X, dtype=float)\n",
    "\n",
    "reading = np.load('reading_np.npy')\n",
    "phn = np.load('phone_np.npy')\n",
    "drinking = np.load('drinking_np.npy')\n",
    "cleaning = np.load('cleaning_np.npy')\n",
    "cutting = np.load('cutting_np.npy')\n",
    "walking = np.load('walking_np.npy')\n",
    "\n",
    "X = np.concatenate((reading, phn, drinking), axis = 0)\n",
    "# X = np.concatenate((reading, phn, drinking), axis = 0)\n",
    "\n",
    "y_reading = np.full(50,0)\n",
    "y_phn = np.full(50,1)\n",
    "y_drink = np.full(50,2)\n",
    "y_cleaning = np.full(50,3)\n",
    "y_cutting = np.full(50,4)\n",
    "y_walking = np.full(50,5)\n",
    "\n",
    "Y = np.concatenate((y_reading, y_phn, y_drink), axis = 0)\n",
    "\n",
    "\n",
    "rX = np.load('test_data_np.npy')\n",
    "\n",
    "train_x_lh = X[:,:,4:8,:]\n",
    "train_x_rh = X[:,:,8:12,:]\n",
    "train_x_ll = X[:,:,12:16,:]\n",
    "train_x_rl = X[:,:,16:20,:]\n",
    "train_x_t = X[:,:,0:4,:]\n",
    "\n",
    "rtrain_x_lh = rX[:,:,4:8,:]\n",
    "rtrain_x_rh = rX[:,:,8:12,:]\n",
    "rtrain_x_ll = rX[:,:,12:16,:]\n",
    "rtrain_x_rl = rX[:,:,16:20,:]\n",
    "rtrain_x_t = rX[:,:,0:4,:]\n",
    "\n",
    "\n",
    "rfinal_x = np.concatenate((rtrain_x_lh, rtrain_x_rh), axis=2)\n",
    "rfinal_x = np.concatenate((rfinal_x, rtrain_x_t), axis=2)\n",
    "rfinal_x = np.concatenate((rfinal_x, rtrain_x_rl), axis=2)\n",
    "rfinal_x = np.concatenate((rfinal_x, rtrain_x_ll), axis=2)\n",
    "\n",
    "\n",
    "final_x = np.concatenate((train_x_lh, train_x_rh), axis=2)\n",
    "final_x = np.concatenate((final_x, train_x_t), axis=2)\n",
    "final_x = np.concatenate((final_x, train_x_rl), axis=2)\n",
    "final_x = np.concatenate((final_x, train_x_ll), axis=2)\n",
    "\n",
    "X = final_x\n",
    "rX = rfinal_x"
   ]
  },
  {
   "cell_type": "code",
   "execution_count": 8,
   "metadata": {},
   "outputs": [
    {
     "data": {
      "text/plain": [
       "(150,)"
      ]
     },
     "execution_count": 8,
     "metadata": {},
     "output_type": "execute_result"
    }
   ],
   "source": [
    "Y.shape"
   ]
  },
  {
   "cell_type": "code",
   "execution_count": 9,
   "metadata": {},
   "outputs": [
    {
     "data": {
      "text/plain": [
       "(7, 100, 20, 3)"
      ]
     },
     "execution_count": 9,
     "metadata": {},
     "output_type": "execute_result"
    }
   ],
   "source": [
    "rX.shape"
   ]
  },
  {
   "cell_type": "code",
   "execution_count": 10,
   "metadata": {},
   "outputs": [],
   "source": [
    "#### Preprocessing to make the image.\n",
    "min_ = X.min(axis=(0,1,2)).reshape(1,1,1,-1)\n",
    "max_ = X.max(axis = (0,1,2)).reshape(1,1,1,-1)\n",
    "\n",
    "min1_ = min_\n",
    "max1_ = max_\n",
    "\n",
    "min_ = np.repeat(min_, 150, axis=0)\n",
    "min_ = np.repeat(min_, 100, axis=1)\n",
    "min_ = np.repeat(min_, 20, axis=2)\n",
    "\n",
    "max_ = np.repeat(max_, 150, axis=0)\n",
    "max_ = np.repeat(max_, 100, axis=1)\n",
    "max_ = np.repeat(max_, 20, axis=2)\n",
    "\n",
    "X_normed = 255*(X - min_)/(max_ - min_).astype(np.int64)\n"
   ]
  },
  {
   "cell_type": "code",
   "execution_count": 11,
   "metadata": {},
   "outputs": [],
   "source": [
    "#### Preprocessing to make the image.\n",
    "rmin_ = rX.min(axis=(0,1,2)).reshape(1,1,1,-1)\n",
    "rmax_ = rX.max(axis = (0,1,2)).reshape(1,1,1,-1)\n",
    "\n",
    "rmin_ = np.repeat(min1_, 9, axis=0)\n",
    "rmin_ = np.repeat(min1_, 100, axis=1)\n",
    "rmin_ = np.repeat(min1_, 20, axis=2)\n",
    "\n",
    "rmax_ = np.repeat(max1_, 9, axis=0)\n",
    "rmax_ = np.repeat(max1_, 100, axis=1)\n",
    "rmax_ = np.repeat(max1_, 20, axis=2)\n",
    "\n",
    "rX_normed = 255*(rX - rmin_)/(rmax_ - rmin_).astype(np.int64)\n"
   ]
  },
  {
   "cell_type": "code",
   "execution_count": 12,
   "metadata": {},
   "outputs": [],
   "source": [
    "\n",
    "# newest_X = []\n",
    "# newest_Y = []\n",
    "# counter = 0\n",
    "# for x_del,y_del in zip(X_normed,Y):\n",
    "#     counter +=1\n",
    "#     if(y_del <= 6 or y_del==13):\n",
    "#         newest_X.append(x_del)\n",
    "#         newest_Y.append(y_del)\n",
    "# X_normed = np.array(newest_X)\n",
    "# Y = np.array(newest_Y)\n",
    "        "
   ]
  },
  {
   "cell_type": "code",
   "execution_count": null,
   "metadata": {},
   "outputs": [],
   "source": []
  },
  {
   "cell_type": "code",
   "execution_count": 13,
   "metadata": {},
   "outputs": [],
   "source": [
    "from matplotlib.pyplot import imshow\n",
    "from PIL import Image\n",
    "\n",
    "import time\n",
    "from pylab import *\n",
    "\n",
    "new_X = []\n",
    "for X_norm in X_normed:\n",
    "    img = Image.fromarray(np.uint8(X_norm))\n",
    "    img = img.resize((32, 32), Image.ANTIALIAS)\n",
    "    img1 = img.transpose(Image.FLIP_LEFT_RIGHT)\n",
    "    img2 = img.transpose(Image.FLIP_TOP_BOTTOM)\n",
    "#     imshow(img)\n",
    "#     show()\n",
    "    time.sleep(0.0001)\n",
    "    new_X.append(np.asarray( img, dtype=\"int32\"))\n",
    "    new_X.append(np.asarray( img1, dtype=\"int32\"))\n",
    "    new_X.append(np.asarray( img2, dtype=\"int32\"))\n",
    "\n",
    "Y = np.repeat(Y,3,axis = 0)\n",
    "\n"
   ]
  },
  {
   "cell_type": "code",
   "execution_count": 14,
   "metadata": {},
   "outputs": [],
   "source": [
    "from matplotlib.pyplot import imshow\n",
    "import time\n",
    "from pylab import *\n",
    "\n",
    "rnew_X = []\n",
    "for rX_norm in rX_normed:\n",
    "    rimg = Image.fromarray(np.uint8(rX_norm))\n",
    "    rimg = rimg.resize((32, 32), Image.ANTIALIAS)\n",
    "    rimg1 = rimg.transpose(Image.FLIP_LEFT_RIGHT)\n",
    "    rimg2 = rimg.transpose(Image.FLIP_TOP_BOTTOM)\n",
    "#     imshow(img)\n",
    "#     show()\n",
    "    time.sleep(0.0001)\n",
    "    rnew_X.append(np.asarray( rimg, dtype=\"int32\"))\n",
    "    rnew_X.append(np.asarray( rimg1, dtype=\"int32\"))\n",
    "    rnew_X.append(np.asarray( rimg2, dtype=\"int32\"))\n",
    "\n",
    "\n"
   ]
  },
  {
   "cell_type": "code",
   "execution_count": 15,
   "metadata": {},
   "outputs": [],
   "source": [
    "# X_normed = np.pad(X_normed,[(0,0),(37,37),(102,102),(0,0)], 'constant')\n",
    "# X = X_normed\n",
    "\n",
    "new_X = np.array(new_X)\n",
    "rnew_X = np.array(rnew_X)"
   ]
  },
  {
   "cell_type": "code",
   "execution_count": 16,
   "metadata": {},
   "outputs": [],
   "source": [
    "X = new_X\n",
    "rX = rnew_X"
   ]
  },
  {
   "cell_type": "code",
   "execution_count": 17,
   "metadata": {},
   "outputs": [
    {
     "data": {
      "text/plain": [
       "(450, 32, 32, 3)"
      ]
     },
     "execution_count": 17,
     "metadata": {},
     "output_type": "execute_result"
    }
   ],
   "source": [
    "X.shape"
   ]
  },
  {
   "cell_type": "code",
   "execution_count": 18,
   "metadata": {},
   "outputs": [
    {
     "data": {
      "text/plain": [
       "(450,)"
      ]
     },
     "execution_count": 18,
     "metadata": {},
     "output_type": "execute_result"
    }
   ],
   "source": [
    "Y.shape"
   ]
  },
  {
   "cell_type": "code",
   "execution_count": 19,
   "metadata": {},
   "outputs": [],
   "source": [
    "N = Y.shape[0]\n",
    "s = np.arange(X.shape[0])\n",
    "np.random.shuffle(s)\n",
    "shuffled_x = X[s]\n",
    "shuffled_y = Y[s]\n"
   ]
  },
  {
   "cell_type": "code",
   "execution_count": 20,
   "metadata": {},
   "outputs": [],
   "source": [
    "train_x = shuffled_x[0:int(0.8*N)]\n",
    "train_y = shuffled_y[0:int(0.8*N)]\n",
    "test_x = shuffled_x[int(0.8*N):]\n",
    "test_y = shuffled_y[int(0.8*N):]"
   ]
  },
  {
   "cell_type": "code",
   "execution_count": 21,
   "metadata": {},
   "outputs": [],
   "source": [
    "train_x = Variable(torch.from_numpy(train_x)).float().cuda()\n",
    "train_x = train_x.permute(0,3,1,2).contiguous()\n",
    "test_x = Variable(torch.from_numpy(test_x)).float().cuda()\n",
    "test_x = test_x.permute(0,3,1,2).contiguous()\n",
    "labels = Variable(torch.from_numpy(train_y)).long().cuda()\n",
    "test_y = Variable(torch.from_numpy(test_y)).long().cuda()\n",
    "\n"
   ]
  },
  {
   "cell_type": "code",
   "execution_count": 22,
   "metadata": {},
   "outputs": [
    {
     "data": {
      "text/plain": [
       "torch.Size([90])"
      ]
     },
     "execution_count": 22,
     "metadata": {},
     "output_type": "execute_result"
    }
   ],
   "source": [
    "test_y.shape"
   ]
  },
  {
   "cell_type": "code",
   "execution_count": 23,
   "metadata": {},
   "outputs": [],
   "source": [
    "# for i in range(10):\n",
    "#     img = Image.fromarray(np.uint8(shuffled_x[i]))\n",
    "#     img.resize((32, 32), Image.ANTIALIAS)\n",
    "#     img.show()"
   ]
  },
  {
   "cell_type": "code",
   "execution_count": 24,
   "metadata": {},
   "outputs": [],
   "source": [
    "BATCH_SIZE = 32\n",
    "num_epochs = 50\n",
    "num_batches = train_x.shape[0]/BATCH_SIZE\n",
    "num_test_batches = test_x.shape[0]/BATCH_SIZE\n",
    "criterion = nn.CrossEntropyLoss()\n",
    "optimizer = torch.optim.SGD(net.parameters(), lr = 0.01,momentum = 0.9, weight_decay = 0.0001)"
   ]
  },
  {
   "cell_type": "code",
   "execution_count": 25,
   "metadata": {},
   "outputs": [],
   "source": [
    "def pred(x):\n",
    "    out = net(x)\n",
    "    return np.argmax(out.data.cpu().numpy(), axis=1)"
   ]
  },
  {
   "cell_type": "code",
   "execution_count": 26,
   "metadata": {
    "scrolled": false
   },
   "outputs": [
    {
     "name": "stdout",
     "output_type": "stream",
     "text": [
      "Epoch [1/50], Loss: 0.8724, Test Loss: 1.0439\n",
      "Epoch [2/50], Loss: 0.5207, Test Loss: 0.6567\n",
      "Epoch [3/50], Loss: 0.3616, Test Loss: 0.4325\n",
      "Epoch [4/50], Loss: 0.2633, Test Loss: 0.2831\n",
      "Epoch [5/50], Loss: 0.1806, Test Loss: 0.2238\n",
      "Epoch [6/50], Loss: 0.1623, Test Loss: 0.1668\n",
      "Epoch [7/50], Loss: 0.1444, Test Loss: 0.1413\n",
      "Epoch [8/50], Loss: 0.1365, Test Loss: 0.2231\n",
      "Epoch [9/50], Loss: 0.1149, Test Loss: 0.1405\n",
      "Epoch [10/50], Loss: 0.0804, Test Loss: 0.0993\n",
      "Epoch [11/50], Loss: 0.0531, Test Loss: 0.1214\n",
      "Epoch [12/50], Loss: 0.1666, Test Loss: 0.1350\n",
      "Epoch [13/50], Loss: 0.1627, Test Loss: 0.4082\n",
      "Epoch [14/50], Loss: 0.1131, Test Loss: 0.3226\n",
      "Epoch [15/50], Loss: 0.0815, Test Loss: 0.0848\n",
      "Epoch [16/50], Loss: 0.0604, Test Loss: 0.1732\n",
      "Epoch [17/50], Loss: 0.0688, Test Loss: 0.2016\n",
      "Epoch [18/50], Loss: 0.0364, Test Loss: 0.1033\n",
      "Epoch [19/50], Loss: 0.0310, Test Loss: 0.2074\n",
      "Epoch [20/50], Loss: 0.0547, Test Loss: 0.2770\n",
      "Epoch [21/50], Loss: 0.0202, Test Loss: 0.0944\n",
      "Epoch [22/50], Loss: 0.0163, Test Loss: 0.1513\n",
      "Epoch [23/50], Loss: 0.0133, Test Loss: 0.1097\n",
      "Epoch [24/50], Loss: 0.0126, Test Loss: 0.2360\n",
      "Epoch [25/50], Loss: 0.0120, Test Loss: 0.2908\n",
      "Epoch [26/50], Loss: 0.0100, Test Loss: 0.0585\n",
      "Epoch [27/50], Loss: 0.0078, Test Loss: 0.1870\n",
      "Epoch [28/50], Loss: 0.0072, Test Loss: 0.1418\n",
      "Epoch [29/50], Loss: 0.0078, Test Loss: 0.1486\n",
      "Epoch [30/50], Loss: 0.0185, Test Loss: 0.1383\n",
      "Epoch [31/50], Loss: 0.0191, Test Loss: 0.1762\n",
      "Epoch [32/50], Loss: 0.0431, Test Loss: 0.4948\n",
      "Epoch [33/50], Loss: 0.0527, Test Loss: 0.6122\n",
      "Epoch [34/50], Loss: 0.0436, Test Loss: 0.0609\n",
      "Epoch [35/50], Loss: 0.0652, Test Loss: 0.2669\n",
      "Epoch [36/50], Loss: 0.0542, Test Loss: 0.1306\n",
      "Epoch [37/50], Loss: 0.0522, Test Loss: 0.2110\n",
      "Epoch [38/50], Loss: 0.0139, Test Loss: 0.0811\n",
      "Epoch [39/50], Loss: 0.0097, Test Loss: 0.1062\n",
      "Epoch [40/50], Loss: 0.0024, Test Loss: 0.2040\n",
      "Epoch [41/50], Loss: 0.0026, Test Loss: 0.0700\n",
      "Epoch [42/50], Loss: 0.0024, Test Loss: 0.0814\n",
      "Epoch [43/50], Loss: 0.0023, Test Loss: 0.0670\n",
      "Epoch [44/50], Loss: 0.0016, Test Loss: 0.0908\n",
      "Epoch [45/50], Loss: 0.0012, Test Loss: 0.1620\n",
      "Epoch [46/50], Loss: 0.0008, Test Loss: 0.1113\n",
      "Epoch [47/50], Loss: 0.0017, Test Loss: 0.1094\n",
      "Epoch [48/50], Loss: 0.0005, Test Loss: 0.1556\n",
      "Epoch [49/50], Loss: 0.0009, Test Loss: 0.1141\n",
      "Epoch [50/50], Loss: 0.0007, Test Loss: 0.2182\n"
     ]
    }
   ],
   "source": [
    "train_plot = []\n",
    "test_plot = []\n",
    "train_acc = []\n",
    "test_acc = []\n",
    "\n",
    "for epoch in range(num_epochs):\n",
    "    if(epoch%75 == 74):\n",
    "        optimizer.param_groups[0]['lr'] = optimizer.param_groups[0]['lr']/10\n",
    "    running_loss = 0\n",
    "    test_running_loss = 0\n",
    "    for batch in range(int(num_test_batches)):\n",
    "        batch_x = test_x[BATCH_SIZE*batch:BATCH_SIZE*(batch+1)]\n",
    "        out = net(batch_x)\n",
    "        loss = criterion(out,test_y[BATCH_SIZE*batch:BATCH_SIZE*(batch+1)].cuda())\n",
    "        test_running_loss += loss.data[0]\n",
    "    test_running_loss = test_running_loss/int(num_test_batches)\n",
    "    test_plot.append(test_running_loss)\n",
    "    test_acc.append(np.mean(pred(test_x) == test_y.data.cpu().numpy()))\n",
    "\n",
    "    for batch in range(int(num_batches)):\n",
    "        optimizer.zero_grad()\n",
    "        batch_x = train_x[BATCH_SIZE*batch:BATCH_SIZE*(batch+1)]\n",
    "        out = net(batch_x)\n",
    "        loss = criterion(out,labels[BATCH_SIZE*batch:BATCH_SIZE*(batch+1)])\n",
    "        running_loss += loss.data[0]\n",
    "        loss.backward()\n",
    "        optimizer.step()\n",
    "    running_loss = running_loss / int(num_batches)\n",
    "    train_plot.append(running_loss)\n",
    "    train_acc.append(np.mean(pred(train_x) == labels.data.cpu().numpy()))\n",
    "    print ('Epoch [%d/%d], Loss: %.4f, Test Loss: %.4f' %(epoch+1, num_epochs, running_loss, test_running_loss))"
   ]
  },
  {
   "cell_type": "code",
   "execution_count": 34,
   "metadata": {},
   "outputs": [
    {
     "data": {
      "image/png": "[encoded data removed]",
      "text/plain": [
       "<matplotlib.figure.Figure at 0x7f55c205a5f8>"
      ]
     },
     "metadata": {},
     "output_type": "display_data"
    },
    {
     "data": {
      "image/png": "[encoded data removed]",
      "text/plain": [
       "<matplotlib.figure.Figure at 0x7f55c2007048>"
      ]
     },
     "metadata": {},
     "output_type": "display_data"
    }
   ],
   "source": [
    "def plotGraph(y1,y2,x, lab1 = \"train loss\", lab2 = \"test loss\"):\n",
    "    plt.plot(x,y1, label = lab1)\n",
    "    plt.plot(x,y2, label=lab2)\n",
    "    plt.legend()\n",
    "    plt.show()\n",
    "plotGraph(train_plot, test_plot, [i for i in range(num_epochs)])\n",
    "plotGraph(train_acc, test_acc, [i for i in range(num_epochs)], \"train Accuracy\", \"Test Accuracy\")"
   ]
  },
  {
   "cell_type": "code",
   "execution_count": 28,
   "metadata": {},
   "outputs": [
    {
     "data": {
      "text/plain": [
       "'\\n0 : Reading\\n1: Phone\\n2: Drinking\\n3: Cleaning\\n4: Cutting\\n#5: optional(Walking)\\n'"
      ]
     },
     "execution_count": 28,
     "metadata": {},
     "output_type": "execute_result"
    }
   ],
   "source": [
    "\"\"\"\n",
    "0 : Reading\n",
    "1: Phone\n",
    "2: Drinking\n",
    "3: Cleaning\n",
    "4: Cutting\n",
    "#5: optional(Walking)\n",
    "\"\"\""
   ]
  },
  {
   "cell_type": "code",
   "execution_count": 29,
   "metadata": {},
   "outputs": [
    {
     "name": "stdout",
     "output_type": "stream",
     "text": [
      "0.9444444444444444\n",
      "1.0\n"
     ]
    }
   ],
   "source": [
    "print(np.mean(pred(test_x) == test_y.data.cpu().numpy()))\n",
    "print(np.mean(pred(train_x) == labels.data.cpu().numpy()))"
   ]
  },
  {
   "cell_type": "code",
   "execution_count": 30,
   "metadata": {},
   "outputs": [
    {
     "name": "stdout",
     "output_type": "stream",
     "text": [
      "[2 0 2 0 0 0 2 0 0 1 1 1 1 1 2 2 2 2 2 0 0]\n",
      "[1 0 2]\n",
      "[1 2 0]\n",
      "[1 0 2]\n",
      "[1 2 0]\n",
      "[1 2 0]\n",
      "[1 2 0]\n",
      "[1 0 2]\n",
      "[1 2 0]\n",
      "[1 2 0]\n",
      "[2 0 1]\n",
      "[2 0 1]\n",
      "[0 2 1]\n",
      "[2 0 1]\n",
      "[2 0 1]\n",
      "[0 1 2]\n",
      "[0 1 2]\n",
      "[0 1 2]\n",
      "[0 1 2]\n",
      "[1 0 2]\n",
      "[1 2 0]\n",
      "[1 2 0]\n"
     ]
    }
   ],
   "source": [
    "r_x = Variable(torch.from_numpy(rX)).float().cuda()\n",
    "r_x = r_x\n",
    "r_x.shape\n",
    "arr = net(r_x.permute(0,3,1,2)).data.cpu().numpy()\n",
    "print(np.argmax(arr,axis =1))\n",
    "for x in arr:\n",
    "    print(np.argsort(x,axis =0))"
   ]
  },
  {
   "cell_type": "code",
   "execution_count": 31,
   "metadata": {},
   "outputs": [],
   "source": [
    "actions = \"drink\", \"eat\", \"read book\", \"call cellphone\", \"write on a paper\", \"use laptop\", \"use vacuum cleaner\", \"cheer up\", \"sit still\", \"toss paper\", \"play game\", \"lie down on sofa\", \"walk\", \"play guitar\", \"stand up\", \"sit down\""
   ]
  },
  {
   "cell_type": "code",
   "execution_count": 32,
   "metadata": {},
   "outputs": [
    {
     "name": "stdout",
     "output_type": "stream",
     "text": [
      "eat  \n",
      "drink  \n",
      "read book  \n",
      "\n",
      "\n",
      "eat  \n",
      "read book  \n",
      "drink  \n",
      "\n",
      "\n",
      "eat  \n",
      "drink  \n",
      "read book  \n",
      "\n",
      "\n",
      "eat  \n",
      "read book  \n",
      "drink  \n",
      "\n",
      "\n",
      "eat  \n",
      "read book  \n",
      "drink  \n",
      "\n",
      "\n",
      "eat  \n",
      "read book  \n",
      "drink  \n",
      "\n",
      "\n",
      "eat  \n",
      "drink  \n",
      "read book  \n",
      "\n",
      "\n",
      "eat  \n",
      "read book  \n",
      "drink  \n",
      "\n",
      "\n",
      "eat  \n",
      "read book  \n",
      "drink  \n",
      "\n",
      "\n",
      "read book  \n",
      "drink  \n",
      "eat  \n",
      "\n",
      "\n",
      "read book  \n",
      "drink  \n",
      "eat  \n",
      "\n",
      "\n",
      "drink  \n",
      "read book  \n",
      "eat  \n",
      "\n",
      "\n",
      "read book  \n",
      "drink  \n",
      "eat  \n",
      "\n",
      "\n",
      "read book  \n",
      "drink  \n",
      "eat  \n",
      "\n",
      "\n",
      "drink  \n",
      "eat  \n",
      "read book  \n",
      "\n",
      "\n",
      "drink  \n",
      "eat  \n",
      "read book  \n",
      "\n",
      "\n",
      "drink  \n",
      "eat  \n",
      "read book  \n",
      "\n",
      "\n",
      "drink  \n",
      "eat  \n",
      "read book  \n",
      "\n",
      "\n",
      "eat  \n",
      "drink  \n",
      "read book  \n",
      "\n",
      "\n",
      "eat  \n",
      "read book  \n",
      "drink  \n",
      "\n",
      "\n",
      "eat  \n",
      "read book  \n",
      "drink  \n",
      "\n",
      "\n"
     ]
    }
   ],
   "source": [
    "\n",
    "for x in arr:\n",
    "    for i in np.argsort(x,axis = 0):\n",
    "        print(actions[i], \" \",)\n",
    "    print( \"\\n\")"
   ]
  },
  {
   "cell_type": "code",
   "execution_count": 33,
   "metadata": {},
   "outputs": [],
   "source": [
    "reading = np.load('reading_np.npy')\n",
    "phn = np.load('phone_np.npy')\n",
    "drinking = np.load('drinking_np.npy')\n",
    "cleaning = np.load('cleaning_np.npy')\n",
    "#walking = np.load('walking_np.npy')\n",
    "cutting = np.load('cutting_np.npy')"
   ]
  },
  {
   "cell_type": "code",
   "execution_count": null,
   "metadata": {},
   "outputs": [],
   "source": []
  },
  {
   "cell_type": "code",
   "execution_count": null,
   "metadata": {},
   "outputs": [],
   "source": []
  }
 ],
 "metadata": {
  "kernelspec": {
   "display_name": "Python 3",
   "language": "python",
   "name": "python3"
  },
  "language_info": {
   "codemirror_mode": {
    "name": "ipython",
    "version": 3
   },
   "file_extension": ".py",
   "mimetype": "text/x-python",
   "name": "python",
   "nbconvert_exporter": "python",
   "pygments_lexer": "ipython3",
   "version": "3.5.2"
  }
 },
 "nbformat": 4,
 "nbformat_minor": 2
}
