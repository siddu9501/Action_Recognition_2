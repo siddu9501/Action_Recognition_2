{
 "cells": [
  {
   "cell_type": "code",
   "execution_count": 1,
   "metadata": {},
   "outputs": [],
   "source": [
    "import numpy as np\n",
    "import os\n"
   ]
  },
  {
   "cell_type": "code",
   "execution_count": 3,
   "metadata": {},
   "outputs": [],
   "source": [
    "path = '../j4kdemo/Phone'\n",
    "files = os.listdir(path)"
   ]
  },
  {
   "cell_type": "code",
   "execution_count": 5,
   "metadata": {},
   "outputs": [
    {
     "name": "stdout",
     "output_type": "stream",
     "text": [
      "../j4kdemo/Phone/Phone018.txt\n",
      "(243, 20, 3)\n",
      "../j4kdemo/Phone/Phone001.txt\n",
      "(534, 20, 3)\n",
      "../j4kdemo/Phone/Phone002.txt\n",
      "(189, 20, 3)\n",
      "../j4kdemo/Phone/Phone003.txt\n",
      "(257, 20, 3)\n",
      "../j4kdemo/Phone/Phone004.txt\n",
      "(196, 20, 3)\n",
      "../j4kdemo/Phone/Phone005.txt\n",
      "(275, 20, 3)\n",
      "../j4kdemo/Phone/Phone006.txt\n",
      "(233, 20, 3)\n",
      "../j4kdemo/Phone/Phone007.txt\n",
      "(275, 20, 3)\n",
      "../j4kdemo/Phone/Phone008.txt\n",
      "(247, 20, 3)\n",
      "../j4kdemo/Phone/Phone009.txt\n",
      "(247, 20, 3)\n",
      "../j4kdemo/Phone/Phone010.txt\n",
      "(245, 20, 3)\n",
      "../j4kdemo/Phone/Phone011.txt\n",
      "(272, 20, 3)\n",
      "../j4kdemo/Phone/Phone012.txt\n",
      "(535, 20, 3)\n",
      "../j4kdemo/Phone/Phone013.txt\n",
      "(276, 20, 3)\n",
      "../j4kdemo/Phone/Phone014.txt\n",
      "(234, 20, 3)\n",
      "../j4kdemo/Phone/Phone015.txt\n",
      "(259, 20, 3)\n",
      "../j4kdemo/Phone/Phone016.txt\n",
      "(252, 20, 3)\n",
      "../j4kdemo/Phone/Phone017.txt\n",
      "(276, 20, 3)\n",
      "../j4kdemo/Phone/Phone019.txt\n",
      "(233, 20, 3)\n",
      "../j4kdemo/Phone/Phone020.txt\n",
      "(273, 20, 3)\n",
      "../j4kdemo/Phone/Phone021.txt\n",
      "(209, 20, 3)\n",
      "../j4kdemo/Phone/Phone022.txt\n",
      "(273, 20, 3)\n",
      "../j4kdemo/Phone/Phone023.txt\n",
      "(277, 20, 3)\n",
      "../j4kdemo/Phone/Phone024.txt\n",
      "(264, 20, 3)\n",
      "../j4kdemo/Phone/Phone025.txt\n",
      "(276, 20, 3)\n",
      "../j4kdemo/Phone/Phone026.txt\n",
      "(270, 20, 3)\n",
      "../j4kdemo/Phone/Phone027.txt\n",
      "(271, 20, 3)\n",
      "../j4kdemo/Phone/Phone028.txt\n",
      "(237, 20, 3)\n",
      "../j4kdemo/Phone/Phone029.txt\n",
      "(249, 20, 3)\n",
      "../j4kdemo/Phone/Phone030.txt\n",
      "(263, 20, 3)\n",
      "../j4kdemo/Phone/Phone031.txt\n",
      "(277, 20, 3)\n",
      "../j4kdemo/Phone/Phone032.txt\n",
      "(277, 20, 3)\n",
      "../j4kdemo/Phone/Phone033.txt\n",
      "(448, 20, 3)\n",
      "../j4kdemo/Phone/Phone034.txt\n",
      "(258, 20, 3)\n",
      "../j4kdemo/Phone/Phone035.txt\n",
      "(251, 20, 3)\n",
      "../j4kdemo/Phone/Phone036.txt\n",
      "(274, 20, 3)\n",
      "../j4kdemo/Phone/Phone037.txt\n",
      "(259, 20, 3)\n",
      "../j4kdemo/Phone/Phone038.txt\n",
      "(276, 20, 3)\n",
      "../j4kdemo/Phone/Phone039.txt\n",
      "(224, 20, 3)\n",
      "../j4kdemo/Phone/Phone040.txt\n",
      "(277, 20, 3)\n",
      "../j4kdemo/Phone/Phone041.txt\n",
      "(265, 20, 3)\n",
      "../j4kdemo/Phone/Phone042.txt\n",
      "(230, 20, 3)\n",
      "../j4kdemo/Phone/Phone043.txt\n",
      "(277, 20, 3)\n",
      "../j4kdemo/Phone/Phone044.txt\n",
      "(266, 20, 3)\n",
      "../j4kdemo/Phone/Phone045.txt\n",
      "(267, 20, 3)\n",
      "../j4kdemo/Phone/Phone046.txt\n",
      "(271, 20, 3)\n",
      "../j4kdemo/Phone/Phone047.txt\n",
      "(270, 20, 3)\n",
      "../j4kdemo/Phone/Phone048.txt\n",
      "(278, 20, 3)\n",
      "../j4kdemo/Phone/Phone049.txt\n",
      "(211, 20, 3)\n",
      "../j4kdemo/Phone/Phone050.txt\n",
      "(277, 20, 3)\n"
     ]
    }
   ],
   "source": [
    "avg_n = 273\n",
    "data = 0\n",
    "for file in files:\n",
    "    print(path + '/' + str(file))\n",
    "    f = open(path + '/' + file, 'r')\n",
    "    st = f.read()\n",
    "    l = st.split(',')\n",
    "    l.pop()\n",
    "    n  = int(len(l)/60)\n",
    "    k = np.array(l, dtype=float)\n",
    "    k = k.reshape((n,20,3))\n",
    "    print(k.shape)\n",
    "    if n < avg_n:\n",
    "        diff = avg_n - n\n",
    "        for i in range(diff):\n",
    "            k = np.vstack((np.array([k[0]]),k))\n",
    "    else:\n",
    "        diff = n - avg_n\n",
    "        k = k[diff:]\n",
    "        \n",
    "    if type(data) == int:\n",
    "        data = np.array([k])\n",
    "    else:\n",
    "        #print(data.shape,k.shape)\n",
    "        data = np.vstack((data,[k]))\n",
    "    \n"
   ]
  },
  {
   "cell_type": "code",
   "execution_count": 6,
   "metadata": {},
   "outputs": [
    {
     "data": {
      "text/plain": [
       "(50, 273, 20, 3)"
      ]
     },
     "execution_count": 6,
     "metadata": {},
     "output_type": "execute_result"
    }
   ],
   "source": [
    "data.shape"
   ]
  },
  {
   "cell_type": "code",
   "execution_count": 7,
   "metadata": {},
   "outputs": [],
   "source": [
    "label = np.ones(data.shape[0])"
   ]
  },
  {
   "cell_type": "code",
   "execution_count": null,
   "metadata": {},
   "outputs": [],
   "source": [
    "label.s"
   ]
  },
  {
   "cell_type": "code",
   "execution_count": 9,
   "metadata": {},
   "outputs": [
    {
     "data": {
      "text/plain": [
       "array([[[1., 1.],\n",
       "        [1., 1.],\n",
       "        [1., 1.],\n",
       "        [1., 1.],\n",
       "        [1., 1.],\n",
       "        [1., 1.],\n",
       "        [1., 1.],\n",
       "        [1., 1.],\n",
       "        [1., 1.],\n",
       "        [1., 1.],\n",
       "        [1., 1.],\n",
       "        [1., 1.],\n",
       "        [1., 1.],\n",
       "        [1., 1.],\n",
       "        [1., 1.],\n",
       "        [1., 1.],\n",
       "        [1., 1.],\n",
       "        [1., 1.],\n",
       "        [1., 1.],\n",
       "        [1., 1.],\n",
       "        [1., 1.],\n",
       "        [1., 1.],\n",
       "        [1., 1.],\n",
       "        [1., 1.],\n",
       "        [1., 1.],\n",
       "        [1., 1.],\n",
       "        [1., 1.],\n",
       "        [1., 1.],\n",
       "        [1., 1.],\n",
       "        [1., 1.],\n",
       "        [1., 1.],\n",
       "        [1., 1.],\n",
       "        [1., 1.],\n",
       "        [1., 1.],\n",
       "        [1., 1.],\n",
       "        [1., 1.],\n",
       "        [1., 1.],\n",
       "        [1., 1.],\n",
       "        [1., 1.],\n",
       "        [1., 1.],\n",
       "        [1., 1.],\n",
       "        [1., 1.],\n",
       "        [1., 1.],\n",
       "        [1., 1.],\n",
       "        [1., 1.],\n",
       "        [1., 1.],\n",
       "        [1., 1.],\n",
       "        [1., 1.],\n",
       "        [1., 1.],\n",
       "        [1., 1.]]])"
      ]
     },
     "execution_count": 9,
     "metadata": {},
     "output_type": "execute_result"
    }
   ],
   "source": [
    "np.dstack((label,label))"
   ]
  },
  {
   "cell_type": "code",
   "execution_count": 22,
   "metadata": {},
   "outputs": [],
   "source": [
    "np.save('phone_np',data)"
   ]
  },
  {
   "cell_type": "code",
   "execution_count": null,
   "metadata": {},
   "outputs": [],
   "source": []
  }
 ],
 "metadata": {
  "kernelspec": {
   "display_name": "Python 3",
   "language": "python",
   "name": "python3"
  },
  "language_info": {
   "codemirror_mode": {
    "name": "ipython",
    "version": 3
   },
   "file_extension": ".py",
   "mimetype": "text/x-python",
   "name": "python",
   "nbconvert_exporter": "python",
   "pygments_lexer": "ipython3",
   "version": "3.5.2"
  }
 },
 "nbformat": 4,
 "nbformat_minor": 2
}
