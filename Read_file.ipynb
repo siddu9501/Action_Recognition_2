{
 "cells": [
  {
   "cell_type": "code",
   "execution_count": 1,
   "metadata": {},
   "outputs": [],
   "source": [
    "import numpy as np\n",
    "import os\n"
   ]
  },
  {
   "cell_type": "code",
   "execution_count": 10,
   "metadata": {},
   "outputs": [],
   "source": [
    "path = '../j4kdemo/Cleaning/'\n",
    "files = os.listdir(path)"
   ]
  },
  {
   "cell_type": "code",
   "execution_count": 11,
   "metadata": {},
   "outputs": [
    {
     "name": "stdout",
     "output_type": "stream",
     "text": [
      "../j4kdemo/Cleaning//Cleaning-024.txt\n",
      "(278, 20, 3)\n",
      "../j4kdemo/Cleaning//Cleaning-000.txt\n",
      "(276, 20, 3)\n",
      "../j4kdemo/Cleaning//Cleaning-001.txt\n",
      "(201, 20, 3)\n",
      "../j4kdemo/Cleaning//Cleaning-002.txt\n",
      "(237, 20, 3)\n",
      "../j4kdemo/Cleaning//Cleaning-003.txt\n",
      "(266, 20, 3)\n",
      "../j4kdemo/Cleaning//Cleaning-004.txt\n",
      "(270, 20, 3)\n",
      "../j4kdemo/Cleaning//Cleaning-005.txt\n",
      "(264, 20, 3)\n",
      "../j4kdemo/Cleaning//Cleaning-006.txt\n",
      "(239, 20, 3)\n",
      "../j4kdemo/Cleaning//Cleaning-007.txt\n",
      "(269, 20, 3)\n",
      "../j4kdemo/Cleaning//Cleaning-008.txt\n",
      "(236, 20, 3)\n",
      "../j4kdemo/Cleaning//Cleaning-009.txt\n",
      "(191, 20, 3)\n",
      "../j4kdemo/Cleaning//Cleaning-010.txt\n",
      "(256, 20, 3)\n",
      "../j4kdemo/Cleaning//Cleaning-011.txt\n",
      "(201, 20, 3)\n",
      "../j4kdemo/Cleaning//Cleaning-013.txt\n",
      "(278, 20, 3)\n",
      "../j4kdemo/Cleaning//Cleaning-014.txt\n",
      "(273, 20, 3)\n",
      "../j4kdemo/Cleaning//Cleaning-015.txt\n",
      "(228, 20, 3)\n",
      "../j4kdemo/Cleaning//Cleaning-016.txt\n",
      "(262, 20, 3)\n",
      "../j4kdemo/Cleaning//Cleaning-017.txt\n",
      "(216, 20, 3)\n",
      "../j4kdemo/Cleaning//Cleaning-018.txt\n",
      "(277, 20, 3)\n",
      "../j4kdemo/Cleaning//Cleaning-019.txt\n",
      "(278, 20, 3)\n",
      "../j4kdemo/Cleaning//Cleaning-020.txt\n",
      "(277, 20, 3)\n",
      "../j4kdemo/Cleaning//Cleaning-021.txt\n",
      "(216, 20, 3)\n",
      "../j4kdemo/Cleaning//Cleaning-022.txt\n",
      "(247, 20, 3)\n",
      "../j4kdemo/Cleaning//Cleaning-023.txt\n",
      "(220, 20, 3)\n",
      "../j4kdemo/Cleaning//Cleaning-025.txt\n",
      "(248, 20, 3)\n",
      "../j4kdemo/Cleaning//Cleaning-026.txt\n",
      "(277, 20, 3)\n",
      "../j4kdemo/Cleaning//Cleaning-027.txt\n",
      "(271, 20, 3)\n",
      "../j4kdemo/Cleaning//Cleaning-028.txt\n",
      "(246, 20, 3)\n",
      "../j4kdemo/Cleaning//Cleaning-029.txt\n",
      "(272, 20, 3)\n",
      "../j4kdemo/Cleaning//Cleaning-030.txt\n",
      "(256, 20, 3)\n",
      "../j4kdemo/Cleaning//Cleaning-031.txt\n",
      "(269, 20, 3)\n",
      "../j4kdemo/Cleaning//Cleaning-032.txt\n",
      "(270, 20, 3)\n",
      "../j4kdemo/Cleaning//Cleaning-033.txt\n",
      "(253, 20, 3)\n",
      "../j4kdemo/Cleaning//Cleaning-034.txt\n",
      "(219, 20, 3)\n",
      "../j4kdemo/Cleaning//Cleaning-035.txt\n",
      "(267, 20, 3)\n",
      "../j4kdemo/Cleaning//Cleaning-036.txt\n",
      "(165, 20, 3)\n",
      "../j4kdemo/Cleaning//Cleaning-037.txt\n",
      "(262, 20, 3)\n",
      "../j4kdemo/Cleaning//Cleaning-038.txt\n",
      "(225, 20, 3)\n",
      "../j4kdemo/Cleaning//Cleaning-039.txt\n",
      "(227, 20, 3)\n",
      "../j4kdemo/Cleaning//Cleaning-040.txt\n",
      "(221, 20, 3)\n",
      "../j4kdemo/Cleaning//Cleaning-041.txt\n",
      "(276, 20, 3)\n",
      "../j4kdemo/Cleaning//Cleaning-042.txt\n",
      "(278, 20, 3)\n",
      "../j4kdemo/Cleaning//Cleaning-043.txt\n",
      "(263, 20, 3)\n",
      "../j4kdemo/Cleaning//Cleaning-044.txt\n",
      "(275, 20, 3)\n",
      "../j4kdemo/Cleaning//Cleaning-045.txt\n",
      "(260, 20, 3)\n",
      "../j4kdemo/Cleaning//Cleaning-046.txt\n",
      "(277, 20, 3)\n",
      "../j4kdemo/Cleaning//Cleaning-047.txt\n",
      "(245, 20, 3)\n",
      "../j4kdemo/Cleaning//Cleaning-048.txt\n",
      "(228, 20, 3)\n",
      "../j4kdemo/Cleaning//Cleaning-049.txt\n",
      "(277, 20, 3)\n",
      "../j4kdemo/Cleaning//Cleaning-050.txt\n",
      "(239, 20, 3)\n"
     ]
    }
   ],
   "source": [
    "avg_n = 273\n",
    "data = 0\n",
    "for file in files:\n",
    "    print(path + '/' + str(file))\n",
    "    f = open(path + '/' + file, 'r')\n",
    "    st = f.read()\n",
    "    l = st.split(',')\n",
    "    l.pop()\n",
    "    n  = int(len(l)/60)\n",
    "    k = np.array(l, dtype=float)\n",
    "    k = k.reshape((n,20,3))\n",
    "    print(k.shape)\n",
    "    if n < avg_n:\n",
    "        diff = avg_n - n\n",
    "        for i in range(diff):\n",
    "            k = np.vstack((np.array([k[0]]),k))\n",
    "    else:\n",
    "        diff = n - avg_n\n",
    "        k = k[diff:]\n",
    "        \n",
    "    if type(data) == int:\n",
    "        data = np.array([k])\n",
    "    else:\n",
    "        #print(data.shape,k.shape)\n",
    "        data = np.vstack((data,[k]))\n",
    "    \n"
   ]
  },
  {
   "cell_type": "code",
   "execution_count": 12,
   "metadata": {},
   "outputs": [
    {
     "data": {
      "text/plain": [
       "(50, 273, 20, 3)"
      ]
     },
     "execution_count": 12,
     "metadata": {},
     "output_type": "execute_result"
    }
   ],
   "source": [
    "data.shape"
   ]
  },
  {
   "cell_type": "code",
   "execution_count": 13,
   "metadata": {},
   "outputs": [],
   "source": [
    "np.save('cleaning_np',data)"
   ]
  }
 ],
 "metadata": {
  "kernelspec": {
   "display_name": "Python 3",
   "language": "python",
   "name": "python3"
  },
  "language_info": {
   "codemirror_mode": {
    "name": "ipython",
    "version": 3
   },
   "file_extension": ".py",
   "mimetype": "text/x-python",
   "name": "python",
   "nbconvert_exporter": "python",
   "pygments_lexer": "ipython3",
   "version": "3.5.2"
  }
 },
 "nbformat": 4,
 "nbformat_minor": 2
}
