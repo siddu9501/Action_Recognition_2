{
 "cells": [
  {
   "cell_type": "code",
   "execution_count": 1,
   "metadata": {},
   "outputs": [],
   "source": [
    "import numpy as np\n",
    "import os\n"
   ]
  },
  {
   "cell_type": "code",
   "execution_count": 4,
   "metadata": {},
   "outputs": [],
   "source": [
    "path = '.'\n",
    "files = os.listdir(path)"
   ]
  },
  {
   "cell_type": "code",
   "execution_count": 6,
   "metadata": {},
   "outputs": [
    {
     "data": {
      "text/plain": [
       "['output1.txt']"
      ]
     },
     "execution_count": 6,
     "metadata": {},
     "output_type": "execute_result"
    }
   ],
   "source": [
    "files = files[8:9]\n",
    "files"
   ]
  },
  {
   "cell_type": "code",
   "execution_count": 7,
   "metadata": {},
   "outputs": [
    {
     "name": "stdout",
     "output_type": "stream",
     "text": [
      "./output1.txt\n",
      "(287, 20, 3)\n"
     ]
    }
   ],
   "source": [
    "avg_n = 273\n",
    "data = 0\n",
    "for file in files:\n",
    "    print(path + '/' + str(file))\n",
    "    f = open(path + '/' + file, 'r')\n",
    "    st = f.read()\n",
    "    l = st.split(',')\n",
    "    l.pop()\n",
    "    n  = int(len(l)/60)\n",
    "    k = np.array(l, dtype=float)\n",
    "    k = k.reshape((n,20,3))\n",
    "    print(k.shape)\n",
    "    if n < avg_n:\n",
    "        diff = avg_n - n\n",
    "        for i in range(diff):\n",
    "            k = np.vstack((np.array([k[0]]),k))\n",
    "    else:\n",
    "        diff = n - avg_n\n",
    "        k = k[diff:]\n",
    "        \n",
    "    if type(data) == int:\n",
    "        data = np.array([k])\n",
    "    else:\n",
    "        #print(data.shape,k.shape)\n",
    "        data = np.vstack((data,[k]))\n",
    "    \n"
   ]
  },
  {
   "cell_type": "code",
   "execution_count": 8,
   "metadata": {},
   "outputs": [
    {
     "data": {
      "text/plain": [
       "(1, 273, 20, 3)"
      ]
     },
     "execution_count": 8,
     "metadata": {},
     "output_type": "execute_result"
    }
   ],
   "source": [
    "data.shape"
   ]
  },
  {
   "cell_type": "code",
   "execution_count": 9,
   "metadata": {},
   "outputs": [],
   "source": [
    "np.save('test_np',data)"
   ]
  }
 ],
 "metadata": {
  "kernelspec": {
   "display_name": "Python 3",
   "language": "python",
   "name": "python3"
  },
  "language_info": {
   "codemirror_mode": {
    "name": "ipython",
    "version": 3
   },
   "file_extension": ".py",
   "mimetype": "text/x-python",
   "name": "python",
   "nbconvert_exporter": "python",
   "pygments_lexer": "ipython3",
   "version": "3.5.2"
  }
 },
 "nbformat": 4,
 "nbformat_minor": 2
}
