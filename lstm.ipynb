{
 "cells": [
  {
   "cell_type": "code",
   "execution_count": 1,
   "metadata": {},
   "outputs": [],
   "source": [
    "import torch\n",
    "import torch.nn as nn\n",
    "import torch.nn.functional as F\n",
    "import numpy as np\n",
    "from sklearn.utils import shuffle\n",
    "from torch import autograd\n",
    "from torch.autograd import Variable"
   ]
  },
  {
   "cell_type": "code",
   "execution_count": 2,
   "metadata": {},
   "outputs": [],
   "source": [
    "import matplotlib.pyplot as plt"
   ]
  },
  {
   "cell_type": "code",
   "execution_count": 3,
   "metadata": {},
   "outputs": [],
   "source": [
    "reading = np.load('reading_np.npy')\n",
    "phn = np.load('phone_np.npy')\n",
    "drinking = np.load('drinking_np.npy')\n",
    "cleaning = np.load('cleaning_np.npy')\n",
    "walking = np.load('walking_np.npy')\n",
    "cutting = np.load('cutting_np.npy')"
   ]
  },
  {
   "cell_type": "code",
   "execution_count": 4,
   "metadata": {},
   "outputs": [],
   "source": [
    "y_reading = np.full(50,0)\n",
    "y_phn = np.full(50,1)\n",
    "y_drink = np.full(50,2)\n",
    "y_cleaning = np.full(50,3)\n",
    "y_walking = np.full(50,4)\n",
    "y_cutting = np.full(50,5)\n",
    "Y = np.concatenate((y_reading, y_phn, y_drink, y_cleaning, y_walking, y_cutting), axis = 0)"
   ]
  },
  {
   "cell_type": "code",
   "execution_count": 5,
   "metadata": {},
   "outputs": [],
   "source": [
    "N = Y.shape[0]\n",
    "\n",
    "N_actions = 6\n",
    "\n",
    "dtype = torch.FloatTensor"
   ]
  },
  {
   "cell_type": "code",
   "execution_count": 6,
   "metadata": {},
   "outputs": [],
   "source": [
    "one_hot_labels = np.zeros((N, N_actions))\n",
    "one_hot_labels[np.arange(N), Y] = 1"
   ]
  },
  {
   "cell_type": "code",
   "execution_count": 7,
   "metadata": {},
   "outputs": [],
   "source": [
    "X = np.vstack((phn,reading,drinking,cleaning,walking,cutting))\n"
   ]
  },
  {
   "cell_type": "code",
   "execution_count": null,
   "metadata": {},
   "outputs": [],
   "source": [
    "temp = frameMat\n",
    "\n",
    "nums_skeleton = 20\n",
    "n_frames = 273\n",
    "frameMat_temp = np.zeros((n_frames, n_features))\n",
    "for i in range(n_frames):\n",
    "    Origin = (temp[i, 12:15] + temp[i, 15:18] + temp[i, 18:21]) / 3\n",
    "    for j in range(num_joints):\n",
    "        index = 3*j\n",
    "        frameMat_temp[i, index] = temp[i, index] - Origin[0]\n",
    "        frameMat_temp[i, index + 1] = temp[i, index + 1] - Origin[1]\n",
    "        frameMat_temp[i, index + 2] = temp[i, index + 2] - Origin[2]"
   ]
  },
  {
   "cell_type": "code",
   "execution_count": 8,
   "metadata": {},
   "outputs": [],
   "source": [
    "mean = X.mean(axis= 0)\n",
    "std  = X.std(axis = 0)\n",
    "X = (X - mean)/std"
   ]
  },
  {
   "cell_type": "code",
   "execution_count": 9,
   "metadata": {},
   "outputs": [],
   "source": [
    "s = np.arange(X.shape[0])\n",
    "np.random.shuffle(s)\n",
    "shuffled_x = X[s]\n",
    "shuffled_y = Y[s]\n",
    "train_x = shuffled_x[0:int(0.8*N)]\n",
    "train_y = shuffled_y[0:int(0.8*N)]\n",
    "test_x = shuffled_x[int(0.8*N):]\n",
    "test_y = shuffled_y[int(0.8*N):]"
   ]
  },
  {
   "cell_type": "code",
   "execution_count": 10,
   "metadata": {},
   "outputs": [],
   "source": [
    "train_x = Variable(torch.from_numpy(train_x)).float()\n",
    "test_x = Variable(torch.from_numpy(test_x))\n",
    "test_x = test_x.float().cuda()\n",
    "labels = Variable(torch.from_numpy(train_y))\n",
    "test_y = Variable(torch.from_numpy(test_y))"
   ]
  },
  {
   "cell_type": "code",
   "execution_count": 11,
   "metadata": {},
   "outputs": [
    {
     "data": {
      "text/plain": [
       "torch.Size([240, 273, 20, 3])"
      ]
     },
     "execution_count": 11,
     "metadata": {},
     "output_type": "execute_result"
    }
   ],
   "source": [
    "train_x.shape"
   ]
  },
  {
   "cell_type": "code",
   "execution_count": 12,
   "metadata": {},
   "outputs": [
    {
     "data": {
      "text/plain": [
       "torch.Size([60, 273, 20, 3])"
      ]
     },
     "execution_count": 12,
     "metadata": {},
     "output_type": "execute_result"
    }
   ],
   "source": [
    "test_x.shape"
   ]
  },
  {
   "cell_type": "code",
   "execution_count": 27,
   "metadata": {},
   "outputs": [],
   "source": [
    "class ActionNet(nn.Module):\n",
    "\n",
    "    def __init__(self, embedding_dim, hidden_dim, label_size, batch_size):\n",
    "        super(ActionNet, self).__init__()\n",
    "        self.hidden_dim = hidden_dim\n",
    "        self.batch_size = batch_size\n",
    "        self.lstm = nn.LSTM(embedding_dim, hidden_dim)\n",
    "        self.hidden2label = nn.Linear(SEQ_LENGTH*hidden_dim, label_size)\n",
    "        self.hidden = self.init_hidden()\n",
    "        \n",
    "    def init_hidden(self):\n",
    "        # the first is the hidden h\n",
    "        # the second is the cell  c\n",
    "        return (autograd.Variable(torch.zeros(1, self.batch_size, self.hidden_dim)).cuda(),\n",
    "                autograd.Variable(torch.zeros(1, self.batch_size, self.hidden_dim)).cuda())\n",
    "\n",
    "    def forward(self, x):\n",
    "        #print(x.shape)\n",
    "        lstm_out, self.hidden = self.lstm(x, self.hidden)\n",
    "        y  = self.hidden2label(lstm_out.view(BATCH_SIZE,-1))\n",
    "        log_probs = F.softmax(y, dim=1)\n",
    "        return y\n"
   ]
  },
  {
   "cell_type": "code",
   "execution_count": 28,
   "metadata": {},
   "outputs": [],
   "source": [
    "EMBEDDING_DIM = 60\n",
    "HIDDEN_DIM = 32\n",
    "SEQ_LENGTH = train_x.shape[1]\n",
    "LABEL_SIZE = N_actions\n",
    "BATCH_SIZE = 30\n",
    "\n",
    "num_batches = train_x.shape[0]/BATCH_SIZE\n",
    "num_test_batches = test_x.shape[0]/BATCH_SIZE\n",
    "net = ActionNet(embedding_dim=EMBEDDING_DIM, hidden_dim=HIDDEN_DIM, label_size=LABEL_SIZE, batch_size=BATCH_SIZE)\n",
    "\n",
    "net = net.cuda()\n",
    "criterion = nn.CrossEntropyLoss()\n",
    "optimizer = torch.optim.Adam(net.parameters(), lr = 0.001)"
   ]
  },
  {
   "cell_type": "code",
   "execution_count": 29,
   "metadata": {},
   "outputs": [
    {
     "name": "stdout",
     "output_type": "stream",
     "text": [
      "Epoch [1/100], Loss: 5.9030, Test Loss: 3.6012\n",
      "Epoch [2/100], Loss: 1.1212, Test Loss: 0.6518\n",
      "Epoch [3/100], Loss: 0.3224, Test Loss: 0.4267\n",
      "Epoch [4/100], Loss: 0.1761, Test Loss: 0.3647\n",
      "Epoch [5/100], Loss: 0.0723, Test Loss: 0.2923\n",
      "Epoch [6/100], Loss: 0.0344, Test Loss: 0.2655\n",
      "Epoch [7/100], Loss: 0.0252, Test Loss: 0.2770\n",
      "Epoch [8/100], Loss: 0.0207, Test Loss: 0.2801\n",
      "Epoch [9/100], Loss: 0.0162, Test Loss: 0.2682\n",
      "Epoch [10/100], Loss: 0.0137, Test Loss: 0.2564\n",
      "Epoch [11/100], Loss: 0.0121, Test Loss: 0.2500\n",
      "Epoch [12/100], Loss: 0.0109, Test Loss: 0.2478\n",
      "Epoch [13/100], Loss: 0.0099, Test Loss: 0.2476\n",
      "Epoch [14/100], Loss: 0.0091, Test Loss: 0.2475\n",
      "Epoch [15/100], Loss: 0.0084, Test Loss: 0.2468\n",
      "Epoch [16/100], Loss: 0.0077, Test Loss: 0.2455\n",
      "Epoch [17/100], Loss: 0.0071, Test Loss: 0.2438\n",
      "Epoch [18/100], Loss: 0.0066, Test Loss: 0.2420\n",
      "Epoch [19/100], Loss: 0.0062, Test Loss: 0.2404\n",
      "Epoch [20/100], Loss: 0.0057, Test Loss: 0.2389\n",
      "Epoch [21/100], Loss: 0.0054, Test Loss: 0.2375\n",
      "Epoch [22/100], Loss: 0.0050, Test Loss: 0.2363\n",
      "Epoch [23/100], Loss: 0.0047, Test Loss: 0.2351\n",
      "Epoch [24/100], Loss: 0.0044, Test Loss: 0.2339\n",
      "Epoch [25/100], Loss: 0.0042, Test Loss: 0.2328\n",
      "Epoch [26/100], Loss: 0.0039, Test Loss: 0.2316\n",
      "Epoch [27/100], Loss: 0.0037, Test Loss: 0.2305\n",
      "Epoch [28/100], Loss: 0.0035, Test Loss: 0.2295\n",
      "Epoch [29/100], Loss: 0.0033, Test Loss: 0.2285\n",
      "Epoch [30/100], Loss: 0.0032, Test Loss: 0.2274\n",
      "Epoch [31/100], Loss: 0.0030, Test Loss: 0.2265\n",
      "Epoch [32/100], Loss: 0.0029, Test Loss: 0.2255\n",
      "Epoch [33/100], Loss: 0.0027, Test Loss: 0.2246\n",
      "Epoch [34/100], Loss: 0.0026, Test Loss: 0.2237\n",
      "Epoch [35/100], Loss: 0.0025, Test Loss: 0.2228\n",
      "Epoch [36/100], Loss: 0.0024, Test Loss: 0.2219\n",
      "Epoch [37/100], Loss: 0.0023, Test Loss: 0.2211\n",
      "Epoch [38/100], Loss: 0.0022, Test Loss: 0.2202\n",
      "Epoch [39/100], Loss: 0.0021, Test Loss: 0.2194\n",
      "Epoch [40/100], Loss: 0.0020, Test Loss: 0.2186\n",
      "Epoch [41/100], Loss: 0.0019, Test Loss: 0.2178\n",
      "Epoch [42/100], Loss: 0.0019, Test Loss: 0.2171\n",
      "Epoch [43/100], Loss: 0.0018, Test Loss: 0.2163\n",
      "Epoch [44/100], Loss: 0.0017, Test Loss: 0.2156\n",
      "Epoch [45/100], Loss: 0.0017, Test Loss: 0.2149\n",
      "Epoch [46/100], Loss: 0.0016, Test Loss: 0.2142\n",
      "Epoch [47/100], Loss: 0.0015, Test Loss: 0.2135\n",
      "Epoch [48/100], Loss: 0.0015, Test Loss: 0.2128\n",
      "Epoch [49/100], Loss: 0.0014, Test Loss: 0.2121\n",
      "Epoch [50/100], Loss: 0.0014, Test Loss: 0.2115\n",
      "Epoch [51/100], Loss: 0.0013, Test Loss: 0.2108\n",
      "Epoch [52/100], Loss: 0.0013, Test Loss: 0.2102\n",
      "Epoch [53/100], Loss: 0.0013, Test Loss: 0.2096\n",
      "Epoch [54/100], Loss: 0.0012, Test Loss: 0.2089\n",
      "Epoch [55/100], Loss: 0.0012, Test Loss: 0.2083\n",
      "Epoch [56/100], Loss: 0.0012, Test Loss: 0.2077\n",
      "Epoch [57/100], Loss: 0.0011, Test Loss: 0.2071\n",
      "Epoch [58/100], Loss: 0.0011, Test Loss: 0.2066\n",
      "Epoch [59/100], Loss: 0.0011, Test Loss: 0.2060\n",
      "Epoch [60/100], Loss: 0.0010, Test Loss: 0.2054\n",
      "Epoch [61/100], Loss: 0.0010, Test Loss: 0.2049\n",
      "Epoch [62/100], Loss: 0.0010, Test Loss: 0.2043\n",
      "Epoch [63/100], Loss: 0.0009, Test Loss: 0.2038\n",
      "Epoch [64/100], Loss: 0.0009, Test Loss: 0.2033\n",
      "Epoch [65/100], Loss: 0.0009, Test Loss: 0.2027\n",
      "Epoch [66/100], Loss: 0.0009, Test Loss: 0.2022\n",
      "Epoch [67/100], Loss: 0.0008, Test Loss: 0.2017\n",
      "Epoch [68/100], Loss: 0.0008, Test Loss: 0.2012\n",
      "Epoch [69/100], Loss: 0.0008, Test Loss: 0.2007\n",
      "Epoch [70/100], Loss: 0.0008, Test Loss: 0.2002\n",
      "Epoch [71/100], Loss: 0.0008, Test Loss: 0.1997\n",
      "Epoch [72/100], Loss: 0.0007, Test Loss: 0.1992\n",
      "Epoch [73/100], Loss: 0.0007, Test Loss: 0.1988\n",
      "Epoch [74/100], Loss: 0.0007, Test Loss: 0.1983\n",
      "Epoch [75/100], Loss: 0.0007, Test Loss: 0.1978\n",
      "Epoch [76/100], Loss: 0.0007, Test Loss: 0.1974\n",
      "Epoch [77/100], Loss: 0.0007, Test Loss: 0.1969\n",
      "Epoch [78/100], Loss: 0.0006, Test Loss: 0.1965\n",
      "Epoch [79/100], Loss: 0.0006, Test Loss: 0.1960\n",
      "Epoch [80/100], Loss: 0.0006, Test Loss: 0.1956\n",
      "Epoch [81/100], Loss: 0.0006, Test Loss: 0.1951\n",
      "Epoch [82/100], Loss: 0.0006, Test Loss: 0.1947\n",
      "Epoch [83/100], Loss: 0.0006, Test Loss: 0.1943\n",
      "Epoch [84/100], Loss: 0.0006, Test Loss: 0.1938\n",
      "Epoch [85/100], Loss: 0.0006, Test Loss: 0.1934\n",
      "Epoch [86/100], Loss: 0.0005, Test Loss: 0.1930\n",
      "Epoch [87/100], Loss: 0.0005, Test Loss: 0.1926\n",
      "Epoch [88/100], Loss: 0.0005, Test Loss: 0.1922\n",
      "Epoch [89/100], Loss: 0.0005, Test Loss: 0.1918\n",
      "Epoch [90/100], Loss: 0.0005, Test Loss: 0.1914\n",
      "Epoch [91/100], Loss: 0.0005, Test Loss: 0.1910\n",
      "Epoch [92/100], Loss: 0.0005, Test Loss: 0.1906\n",
      "Epoch [93/100], Loss: 0.0005, Test Loss: 0.1902\n",
      "Epoch [94/100], Loss: 0.0005, Test Loss: 0.1898\n",
      "Epoch [95/100], Loss: 0.0005, Test Loss: 0.1895\n",
      "Epoch [96/100], Loss: 0.0004, Test Loss: 0.1891\n",
      "Epoch [97/100], Loss: 0.0004, Test Loss: 0.1887\n",
      "Epoch [98/100], Loss: 0.0004, Test Loss: 0.1883\n",
      "Epoch [99/100], Loss: 0.0004, Test Loss: 0.1880\n",
      "Epoch [100/100], Loss: 0.0004, Test Loss: 0.1876\n"
     ]
    }
   ],
   "source": [
    "num_epochs = 100\n",
    "train_loss_list = []\n",
    "test_loss_list = []\n",
    "for epoch in range(num_epochs):\n",
    "    running_loss = 0\n",
    "    test_running_loss = 0\n",
    "    for batch in range(int(num_test_batches)):\n",
    "        x = test_x[BATCH_SIZE*batch:BATCH_SIZE*(batch+1)].view(SEQ_LENGTH,BATCH_SIZE,-1)\n",
    "        out = net(x)\n",
    "        loss = criterion(out,test_y[BATCH_SIZE*batch:BATCH_SIZE*(batch+1)].cuda())\n",
    "        test_running_loss += loss.data[0]\n",
    "    \n",
    "    test_loss_list.append(test_running_loss)\n",
    "    for batch in range(int(num_batches)):\n",
    "        x = train_x[BATCH_SIZE*batch:BATCH_SIZE*(batch+1)].view(SEQ_LENGTH,BATCH_SIZE,-1).cuda()\n",
    "        optimizer.zero_grad()\n",
    "        net.hidden = net.init_hidden()\n",
    "        \n",
    "        out = net(x)\n",
    "        #print(out.shape)\n",
    "        loss = criterion(out,labels[BATCH_SIZE*batch:BATCH_SIZE*(batch+1)].cuda())\n",
    "        running_loss += loss.data[0]\n",
    "        loss.backward()\n",
    "        optimizer.step()\n",
    "    train_loss_list.append(running_loss)\n",
    "        \n",
    "    print ('Epoch [%d/%d], Loss: %.4f, Test Loss: %.4f' %(epoch+1, num_epochs, running_loss, test_running_loss))"
   ]
  },
  {
   "cell_type": "code",
   "execution_count": 30,
   "metadata": {},
   "outputs": [],
   "source": [
    "def plotGraph(y1,y2,x):\n",
    "    plt.plot(x,y1, label = \"Train loss\")\n",
    "    plt.plot(x,y2, label=\"Test Loss\")\n",
    "    plt.legend()\n",
    "    plt.show"
   ]
  },
  {
   "cell_type": "code",
   "execution_count": 31,
   "metadata": {},
   "outputs": [
    {
     "data": {
      "image/png": "[encoded data removed]",
      "text/plain": [
       "<matplotlib.figure.Figure at 0x7f771d28abe0>"
      ]
     },
     "metadata": {},
     "output_type": "display_data"
    }
   ],
   "source": [
    "plotGraph(train_loss_list, test_loss_list, [i for i in range(num_epochs)])"
   ]
  },
  {
   "cell_type": "code",
   "execution_count": 32,
   "metadata": {},
   "outputs": [],
   "source": [
    "def pred(x):\n",
    "    out = net(x)\n",
    "    weight, action = torch.max(out, dim=1)\n",
    "    return action.data.cpu().numpy()"
   ]
  },
  {
   "cell_type": "code",
   "execution_count": 33,
   "metadata": {},
   "outputs": [],
   "source": [
    "def accuracy(x,labels):\n",
    "    N = labels.shape[0]\n",
    "    predicted = pred(x.cuda())\n",
    "    i = 0\n",
    "    for yhat,y in zip(predicted,labels):\n",
    "        \n",
    "        if yhat == y:\n",
    "            i += 1\n",
    "    return i"
   ]
  },
  {
   "cell_type": "code",
   "execution_count": 34,
   "metadata": {},
   "outputs": [
    {
     "name": "stdout",
     "output_type": "stream",
     "text": [
      "torch.Size([240, 273, 20, 3])\n"
     ]
    }
   ],
   "source": [
    "print(train_x.shape)"
   ]
  },
  {
   "cell_type": "code",
   "execution_count": 35,
   "metadata": {},
   "outputs": [
    {
     "data": {
      "text/plain": [
       "torch.Size([60, 273, 20, 3])"
      ]
     },
     "execution_count": 35,
     "metadata": {},
     "output_type": "execute_result"
    }
   ],
   "source": [
    "test_x.shape"
   ]
  },
  {
   "cell_type": "code",
   "execution_count": 36,
   "metadata": {},
   "outputs": [],
   "source": [
    "def get_Accuracy(x,y):\n",
    "    x = x.float().cuda()\n",
    "    n_testbatch = int(x.shape[0]/BATCH_SIZE)\n",
    "    n_correct = 0\n",
    "    for i in range(n_testbatch):\n",
    "        test_batch_x = x[i*BATCH_SIZE:(i+1)*BATCH_SIZE].view(-1,SEQ_LENGTH, BATCH_SIZE, EMBEDDING_DIM)\n",
    "        n_correct += accuracy(test_batch_x[0], y[i*BATCH_SIZE:(i+1)*BATCH_SIZE])\n",
    "    print(\"Accuracy :\", n_correct*100/x.shape[0])\n",
    "    "
   ]
  },
  {
   "cell_type": "code",
   "execution_count": 37,
   "metadata": {},
   "outputs": [
    {
     "name": "stdout",
     "output_type": "stream",
     "text": [
      "Accuracy : 96.66666666666667\n"
     ]
    }
   ],
   "source": [
    "get_Accuracy(test_x,test_y.data.numpy())"
   ]
  },
  {
   "cell_type": "code",
   "execution_count": 38,
   "metadata": {},
   "outputs": [
    {
     "name": "stdout",
     "output_type": "stream",
     "text": [
      "Accuracy : 100.0\n"
     ]
    }
   ],
   "source": [
    "get_Accuracy(train_x, train_y)"
   ]
  }
 ],
 "metadata": {
  "kernelspec": {
   "display_name": "Python 3",
   "language": "python",
   "name": "python3"
  },
  "language_info": {
   "codemirror_mode": {
    "name": "ipython",
    "version": 3
   },
   "file_extension": ".py",
   "mimetype": "text/x-python",
   "name": "python",
   "nbconvert_exporter": "python",
   "pygments_lexer": "ipython3",
   "version": "3.5.2"
  }
 },
 "nbformat": 4,
 "nbformat_minor": 2
}
