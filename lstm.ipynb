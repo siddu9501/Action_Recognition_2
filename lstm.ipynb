{
 "cells": [
  {
   "cell_type": "code",
   "execution_count": 37,
   "metadata": {},
   "outputs": [],
   "source": [
    "import torch\n",
    "import torch.nn as nn\n",
    "import torch.nn.functional as F\n",
    "import numpy as np\n",
    "from sklearn.utils import shuffle\n",
    "from torch import autograd\n",
    "from torch.autograd import Variable"
   ]
  },
  {
   "cell_type": "code",
   "execution_count": 38,
   "metadata": {},
   "outputs": [],
   "source": [
    "import matplotlib.pyplot as plt"
   ]
  },
  {
   "cell_type": "code",
   "execution_count": 39,
   "metadata": {},
   "outputs": [],
   "source": [
    "reading = np.load('reading_np.npy')\n",
    "phn = np.load('phone_np.npy')\n",
    "drinking = np.load('drinking_np.npy')\n",
    "cleaning = np.load('cleaning_np.npy')\n",
    "walking = np.load('walking_np.npy')\n",
    "cutting = np.load('cutting_np.npy')"
   ]
  },
  {
   "cell_type": "code",
   "execution_count": 40,
   "metadata": {},
   "outputs": [],
   "source": [
    "y_reading = np.full(50,0)\n",
    "y_phn = np.full(50,1)\n",
    "y_drink = np.full(50,2)\n",
    "y_cleaning = np.full(50,3)\n",
    "y_walking = np.full(50,4)\n",
    "y_cutting = np.full(50,5)\n",
    "Y = np.concatenate((y_reading, y_phn, y_drink, y_cleaning, y_walking, y_cutting), axis = 0)"
   ]
  },
  {
   "cell_type": "code",
   "execution_count": 41,
   "metadata": {},
   "outputs": [],
   "source": [
    "N = Y.shape[0]\n",
    "\n",
    "N_actions = 6\n",
    "\n",
    "dtype = torch.FloatTensor"
   ]
  },
  {
   "cell_type": "code",
   "execution_count": 42,
   "metadata": {},
   "outputs": [],
   "source": [
    "one_hot_labels = np.zeros((N, N_actions))\n",
    "one_hot_labels[np.arange(N), Y] = 1"
   ]
  },
  {
   "cell_type": "code",
   "execution_count": 43,
   "metadata": {},
   "outputs": [],
   "source": [
    "X = np.vstack((phn,reading,drinking,cleaning,walking,cutting))\n"
   ]
  },
  {
   "cell_type": "markdown",
   "metadata": {},
   "source": [
    "temp = frameMat\n",
    "\n",
    "nums_skeleton = 20\n",
    "n_frames = 273\n",
    "frameMat_temp = np.zeros((n_frames, n_features))\n",
    "for i in range(n_frames):\n",
    "    Origin = (temp[i, 12:15] + temp[i, 15:18] + temp[i, 18:21]) / 3\n",
    "    for j in range(num_joints):\n",
    "        index = 3*j\n",
    "        frameMat_temp[i, index] = temp[i, index] - Origin[0]\n",
    "        frameMat_temp[i, index + 1] = temp[i, index + 1] - Origin[1]\n",
    "        frameMat_temp[i, index + 2] = temp[i, index + 2] - Origin[2]"
   ]
  },
  {
   "cell_type": "code",
   "execution_count": 44,
   "metadata": {},
   "outputs": [],
   "source": [
    "mean = X.mean(axis= 0)\n",
    "std  = X.std(axis = 0)\n",
    "X = (X - mean)/std"
   ]
  },
  {
   "cell_type": "code",
   "execution_count": 45,
   "metadata": {},
   "outputs": [],
   "source": [
    "s = np.arange(X.shape[0])\n",
    "np.random.shuffle(s)\n",
    "shuffled_x = X[s]\n",
    "shuffled_y = Y[s]\n",
    "train_x = shuffled_x[0:int(0.8*N)]\n",
    "train_y = shuffled_y[0:int(0.8*N)]\n",
    "test_x = shuffled_x[int(0.8*N):]\n",
    "test_y = shuffled_y[int(0.8*N):]"
   ]
  },
  {
   "cell_type": "code",
   "execution_count": 46,
   "metadata": {},
   "outputs": [],
   "source": [
    "train_x = Variable(torch.from_numpy(train_x)).float()\n",
    "test_x = Variable(torch.from_numpy(test_x))\n",
    "test_x = test_x.float().cuda()\n",
    "labels = Variable(torch.from_numpy(train_y))\n",
    "test_y = Variable(torch.from_numpy(test_y))"
   ]
  },
  {
   "cell_type": "code",
   "execution_count": 47,
   "metadata": {},
   "outputs": [
    {
     "data": {
      "text/plain": [
       "torch.Size([240, 273, 20, 3])"
      ]
     },
     "execution_count": 47,
     "metadata": {},
     "output_type": "execute_result"
    }
   ],
   "source": [
    "train_x.shape"
   ]
  },
  {
   "cell_type": "code",
   "execution_count": 48,
   "metadata": {},
   "outputs": [
    {
     "data": {
      "text/plain": [
       "torch.Size([60, 273, 20, 3])"
      ]
     },
     "execution_count": 48,
     "metadata": {},
     "output_type": "execute_result"
    }
   ],
   "source": [
    "test_x.shape"
   ]
  },
  {
   "cell_type": "code",
   "execution_count": 49,
   "metadata": {},
   "outputs": [],
   "source": [
    "class ActionNet(nn.Module):\n",
    "\n",
    "    def __init__(self, embedding_dim, hidden_dim, label_size, batch_size):\n",
    "        super(ActionNet, self).__init__()\n",
    "        self.hidden_dim = hidden_dim\n",
    "        self.batch_size = batch_size\n",
    "        self.lstm = nn.LSTM(embedding_dim, hidden_dim)\n",
    "        self.hidden2label = nn.Linear(SEQ_LENGTH*hidden_dim, label_size)\n",
    "        self.hidden = self.init_hidden()\n",
    "        \n",
    "    def init_hidden(self):\n",
    "        # the first is the hidden h\n",
    "        # the second is the cell  c\n",
    "        return (autograd.Variable(torch.zeros(1, self.batch_size, self.hidden_dim)).cuda(),\n",
    "                autograd.Variable(torch.zeros(1, self.batch_size, self.hidden_dim)).cuda())\n",
    "\n",
    "    def forward(self, x):\n",
    "        #print(x.shape)\n",
    "        lstm_out, self.hidden = self.lstm(x, self.hidden)\n",
    "        y  = self.hidden2label(lstm_out.view(BATCH_SIZE,-1))\n",
    "        log_probs = F.softmax(y, dim=1)\n",
    "        return y\n"
   ]
  },
  {
   "cell_type": "code",
   "execution_count": 50,
   "metadata": {},
   "outputs": [],
   "source": [
    "EMBEDDING_DIM = 60\n",
    "HIDDEN_DIM = 32\n",
    "SEQ_LENGTH = train_x.shape[1]\n",
    "LABEL_SIZE = N_actions\n",
    "BATCH_SIZE = 30\n",
    "\n",
    "num_batches = train_x.shape[0]/BATCH_SIZE\n",
    "num_test_batches = test_x.shape[0]/BATCH_SIZE\n",
    "net = ActionNet(embedding_dim=EMBEDDING_DIM, hidden_dim=HIDDEN_DIM, label_size=LABEL_SIZE, batch_size=BATCH_SIZE)\n",
    "\n",
    "net = net.cuda()\n",
    "criterion = nn.CrossEntropyLoss()\n",
    "optimizer = torch.optim.Adam(net.parameters(), lr = 0.001)"
   ]
  },
  {
   "cell_type": "code",
   "execution_count": null,
   "metadata": {},
   "outputs": [],
   "source": []
  },
  {
   "cell_type": "code",
   "execution_count": 51,
   "metadata": {},
   "outputs": [
    {
     "name": "stdout",
     "output_type": "stream",
     "text": [
      "Epoch [1/100], Loss: 14.6913, Test Loss: 3.5848\n",
      "Epoch [2/100], Loss: 9.0627, Test Loss: 3.9306\n",
      "Epoch [3/100], Loss: 6.3569, Test Loss: 4.2686\n",
      "Epoch [4/100], Loss: 4.2222, Test Loss: 4.6545\n",
      "Epoch [5/100], Loss: 2.5930, Test Loss: 5.2555\n",
      "Epoch [6/100], Loss: 1.5250, Test Loss: 5.8879\n",
      "Epoch [7/100], Loss: 0.9278, Test Loss: 6.4241\n",
      "Epoch [8/100], Loss: 0.6181, Test Loss: 6.7519\n",
      "Epoch [9/100], Loss: 0.4084, Test Loss: 7.1851\n",
      "Epoch [10/100], Loss: 0.2912, Test Loss: 7.4980\n",
      "Epoch [11/100], Loss: 0.2241, Test Loss: 7.7821\n",
      "Epoch [12/100], Loss: 0.1795, Test Loss: 7.9437\n",
      "Epoch [13/100], Loss: 0.1495, Test Loss: 8.0957\n",
      "Epoch [14/100], Loss: 0.1275, Test Loss: 8.2149\n",
      "Epoch [15/100], Loss: 0.1110, Test Loss: 8.3464\n",
      "Epoch [16/100], Loss: 0.0979, Test Loss: 8.4538\n",
      "Epoch [17/100], Loss: 0.0873, Test Loss: 8.5601\n",
      "Epoch [18/100], Loss: 0.0786, Test Loss: 8.6496\n",
      "Epoch [19/100], Loss: 0.0712, Test Loss: 8.7427\n",
      "Epoch [20/100], Loss: 0.0649, Test Loss: 8.8178\n",
      "Epoch [21/100], Loss: 0.0594, Test Loss: 8.9018\n",
      "Epoch [22/100], Loss: 0.0546, Test Loss: 8.9673\n",
      "Epoch [23/100], Loss: 0.0504, Test Loss: 9.0394\n",
      "Epoch [24/100], Loss: 0.0467, Test Loss: 9.1017\n",
      "Epoch [25/100], Loss: 0.0434, Test Loss: 9.1693\n",
      "Epoch [26/100], Loss: 0.0405, Test Loss: 9.2249\n",
      "Epoch [27/100], Loss: 0.0379, Test Loss: 9.2880\n",
      "Epoch [28/100], Loss: 0.0355, Test Loss: 9.3376\n",
      "Epoch [29/100], Loss: 0.0333, Test Loss: 9.3944\n",
      "Epoch [30/100], Loss: 0.0314, Test Loss: 9.4409\n",
      "Epoch [31/100], Loss: 0.0296, Test Loss: 9.4941\n",
      "Epoch [32/100], Loss: 0.0280, Test Loss: 9.5366\n",
      "Epoch [33/100], Loss: 0.0265, Test Loss: 9.5864\n",
      "Epoch [34/100], Loss: 0.0251, Test Loss: 9.6253\n",
      "Epoch [35/100], Loss: 0.0239, Test Loss: 9.6721\n",
      "Epoch [36/100], Loss: 0.0227, Test Loss: 9.7088\n",
      "Epoch [37/100], Loss: 0.0216, Test Loss: 9.7533\n",
      "Epoch [38/100], Loss: 0.0206, Test Loss: 9.7883\n",
      "Epoch [39/100], Loss: 0.0197, Test Loss: 9.8311\n",
      "Epoch [40/100], Loss: 0.0188, Test Loss: 9.8647\n",
      "Epoch [41/100], Loss: 0.0180, Test Loss: 9.9058\n",
      "Epoch [42/100], Loss: 0.0172, Test Loss: 9.9383\n",
      "Epoch [43/100], Loss: 0.0165, Test Loss: 9.9777\n",
      "Epoch [44/100], Loss: 0.0158, Test Loss: 10.0089\n",
      "Epoch [45/100], Loss: 0.0152, Test Loss: 10.0466\n",
      "Epoch [46/100], Loss: 0.0146, Test Loss: 10.0766\n",
      "Epoch [47/100], Loss: 0.0141, Test Loss: 10.1126\n",
      "Epoch [48/100], Loss: 0.0136, Test Loss: 10.1414\n",
      "Epoch [49/100], Loss: 0.0131, Test Loss: 10.1760\n",
      "Epoch [50/100], Loss: 0.0126, Test Loss: 10.2037\n",
      "Epoch [51/100], Loss: 0.0122, Test Loss: 10.2369\n",
      "Epoch [52/100], Loss: 0.0118, Test Loss: 10.2635\n",
      "Epoch [53/100], Loss: 0.0114, Test Loss: 10.2955\n",
      "Epoch [54/100], Loss: 0.0110, Test Loss: 10.3212\n",
      "Epoch [55/100], Loss: 0.0107, Test Loss: 10.3519\n",
      "Epoch [56/100], Loss: 0.0103, Test Loss: 10.3767\n",
      "Epoch [57/100], Loss: 0.0100, Test Loss: 10.4063\n",
      "Epoch [58/100], Loss: 0.0097, Test Loss: 10.4304\n",
      "Epoch [59/100], Loss: 0.0094, Test Loss: 10.4588\n",
      "Epoch [60/100], Loss: 0.0091, Test Loss: 10.4823\n",
      "Epoch [61/100], Loss: 0.0089, Test Loss: 10.5095\n",
      "Epoch [62/100], Loss: 0.0086, Test Loss: 10.5327\n",
      "Epoch [63/100], Loss: 0.0084, Test Loss: 10.5585\n",
      "Epoch [64/100], Loss: 0.0081, Test Loss: 10.5816\n",
      "Epoch [65/100], Loss: 0.0079, Test Loss: 10.6055\n",
      "Epoch [66/100], Loss: 0.0077, Test Loss: 10.6289\n",
      "Epoch [67/100], Loss: 0.0075, Test Loss: 10.6517\n",
      "Epoch [68/100], Loss: 0.0073, Test Loss: 10.6748\n",
      "Epoch [69/100], Loss: 0.0071, Test Loss: 10.6974\n",
      "Epoch [70/100], Loss: 0.0069, Test Loss: 10.7198\n",
      "Epoch [71/100], Loss: 0.0067, Test Loss: 10.7406\n",
      "Epoch [72/100], Loss: 0.0066, Test Loss: 10.7629\n",
      "Epoch [73/100], Loss: 0.0064, Test Loss: 10.7851\n",
      "Epoch [74/100], Loss: 0.0062, Test Loss: 10.8056\n",
      "Epoch [75/100], Loss: 0.0061, Test Loss: 10.8259\n",
      "Epoch [76/100], Loss: 0.0060, Test Loss: 10.8474\n",
      "Epoch [77/100], Loss: 0.0058, Test Loss: 10.8638\n",
      "Epoch [78/100], Loss: 0.0057, Test Loss: 10.8861\n",
      "Epoch [79/100], Loss: 0.0056, Test Loss: 10.9094\n",
      "Epoch [80/100], Loss: 0.0055, Test Loss: 10.9070\n",
      "Epoch [81/100], Loss: 0.0054, Test Loss: 10.9259\n",
      "Epoch [82/100], Loss: 0.0052, Test Loss: 10.9518\n",
      "Epoch [83/100], Loss: 0.0051, Test Loss: 10.9790\n",
      "Epoch [84/100], Loss: 0.0050, Test Loss: 11.0035\n",
      "Epoch [85/100], Loss: 0.0048, Test Loss: 11.0214\n",
      "Epoch [86/100], Loss: 0.0047, Test Loss: 11.0361\n",
      "Epoch [87/100], Loss: 0.0046, Test Loss: 11.0557\n",
      "Epoch [88/100], Loss: 0.0046, Test Loss: 11.0746\n",
      "Epoch [89/100], Loss: 0.0045, Test Loss: 11.0880\n",
      "Epoch [90/100], Loss: 0.0044, Test Loss: 11.1067\n",
      "Epoch [91/100], Loss: 0.0043, Test Loss: 11.1256\n",
      "Epoch [92/100], Loss: 0.0042, Test Loss: 11.1324\n",
      "Epoch [93/100], Loss: 0.0041, Test Loss: 11.1500\n",
      "Epoch [94/100], Loss: 0.0040, Test Loss: 11.1714\n",
      "Epoch [95/100], Loss: 0.0040, Test Loss: 11.1921\n",
      "Epoch [96/100], Loss: 0.0039, Test Loss: 11.1907\n",
      "Epoch [97/100], Loss: 0.0039, Test Loss: 11.2028\n",
      "Epoch [98/100], Loss: 0.0038, Test Loss: 11.2259\n",
      "Epoch [99/100], Loss: 0.0037, Test Loss: 11.2472\n",
      "Epoch [100/100], Loss: 0.0036, Test Loss: 11.2689\n"
     ]
    }
   ],
   "source": [
    "num_epochs = 100\n",
    "train_loss_list = []\n",
    "test_loss_list = []\n",
    "for epoch in range(num_epochs):\n",
    "    running_loss = 0\n",
    "    test_running_loss = 0\n",
    "    for batch in range(int(num_test_batches)):\n",
    "        x = test_x[BATCH_SIZE*batch:BATCH_SIZE*(batch+1)].permute(1,0,2,3).contiguous()\n",
    "        x = x.view(SEQ_LENGTH, BATCH_SIZE, -1)\n",
    "        out = net(x)\n",
    "        loss = criterion(out,test_y[BATCH_SIZE*batch:BATCH_SIZE*(batch+1)].cuda())\n",
    "        test_running_loss += loss.data[0]\n",
    "    \n",
    "    test_loss_list.append(test_running_loss)\n",
    "    for batch in range(int(num_batches)):\n",
    "        x = train_x[BATCH_SIZE*batch:BATCH_SIZE*(batch+1)].permute(1,0,2,3).contiguous().cuda()\n",
    "        x = x.view(SEQ_LENGTH, BATCH_SIZE, -1)\n",
    "        optimizer.zero_grad()\n",
    "        net.hidden = net.init_hidden()\n",
    "        \n",
    "        out = net(x)\n",
    "        #print(out.shape)\n",
    "        loss = criterion(out,labels[BATCH_SIZE*batch:BATCH_SIZE*(batch+1)].cuda())\n",
    "        running_loss += loss.data[0]\n",
    "        loss.backward()\n",
    "        optimizer.step()\n",
    "    train_loss_list.append(running_loss)\n",
    "        \n",
    "    print ('Epoch [%d/%d], Loss: %.4f, Test Loss: %.4f' %(epoch+1, num_epochs, running_loss, test_running_loss))"
   ]
  },
  {
   "cell_type": "code",
   "execution_count": 52,
   "metadata": {},
   "outputs": [],
   "source": [
    "def plotGraph(y1,y2,x):\n",
    "    plt.plot(x,y1, label = \"Train loss\")\n",
    "    plt.plot(x,y2, label=\"Test Loss\")\n",
    "    plt.legend()\n",
    "    plt.show"
   ]
  },
  {
   "cell_type": "code",
   "execution_count": 53,
   "metadata": {},
   "outputs": [
    {
     "data": {
      "image/png": "[encoded data removed]",
      "text/plain": [
       "<matplotlib.figure.Figure at 0x7fbdcd034898>"
      ]
     },
     "metadata": {},
     "output_type": "display_data"
    }
   ],
   "source": [
    "plotGraph(train_loss_list, test_loss_list, [i for i in range(num_epochs)])"
   ]
  },
  {
   "cell_type": "code",
   "execution_count": 54,
   "metadata": {},
   "outputs": [],
   "source": [
    "def pred(x):\n",
    "    out = net(x)\n",
    "    weight, action = torch.max(out, dim=1)\n",
    "    return action.data.cpu().numpy()"
   ]
  },
  {
   "cell_type": "code",
   "execution_count": 55,
   "metadata": {},
   "outputs": [],
   "source": [
    "def accuracy(x,labels):\n",
    "    N = labels.shape[0]\n",
    "    predicted = pred(x.cuda())\n",
    "    i = 0\n",
    "    for yhat,y in zip(predicted,labels):\n",
    "        \n",
    "        if yhat == y:\n",
    "            i += 1\n",
    "    return i"
   ]
  },
  {
   "cell_type": "code",
   "execution_count": 56,
   "metadata": {},
   "outputs": [
    {
     "name": "stdout",
     "output_type": "stream",
     "text": [
      "torch.Size([240, 273, 20, 3])\n"
     ]
    }
   ],
   "source": [
    "print(train_x.shape)"
   ]
  },
  {
   "cell_type": "code",
   "execution_count": 57,
   "metadata": {},
   "outputs": [
    {
     "data": {
      "text/plain": [
       "torch.Size([60, 273, 20, 3])"
      ]
     },
     "execution_count": 57,
     "metadata": {},
     "output_type": "execute_result"
    }
   ],
   "source": [
    "test_x.shape"
   ]
  },
  {
   "cell_type": "code",
   "execution_count": 70,
   "metadata": {},
   "outputs": [],
   "source": [
    "def get_Accuracy(x,y):\n",
    "    x = x.float().cuda()\n",
    "    n_testbatch = int(x.shape[0]/BATCH_SIZE)\n",
    "    n_correct = 0\n",
    "    for i in range(n_testbatch):\n",
    "        test_batch_x = x[i*BATCH_SIZE:(i+1)*BATCH_SIZE].permute(1,0,2,3).contiguous()\n",
    "        test_batch_x = test_batch_x.view(SEQ_LENGTH, BATCH_SIZE,-1)\n",
    "        print(test_batch_x.shape)\n",
    "        n_correct += accuracy(test_batch_x, y[i*BATCH_SIZE:(i+1)*BATCH_SIZE])\n",
    "    print(\"Accuracy :\", n_correct*100/x.shape[0])\n",
    "    "
   ]
  },
  {
   "cell_type": "code",
   "execution_count": 71,
   "metadata": {},
   "outputs": [
    {
     "name": "stdout",
     "output_type": "stream",
     "text": [
      "torch.Size([273, 30, 60])\n",
      "torch.Size([273, 30, 60])\n",
      "Accuracy : 13.333333333333334\n"
     ]
    }
   ],
   "source": [
    "get_Accuracy(test_x,test_y.data.numpy())"
   ]
  },
  {
   "cell_type": "code",
   "execution_count": 72,
   "metadata": {},
   "outputs": [
    {
     "name": "stdout",
     "output_type": "stream",
     "text": [
      "torch.Size([273, 30, 60])\n",
      "torch.Size([273, 30, 60])\n",
      "torch.Size([273, 30, 60])\n",
      "torch.Size([273, 30, 60])\n",
      "torch.Size([273, 30, 60])\n",
      "torch.Size([273, 30, 60])\n",
      "torch.Size([273, 30, 60])\n",
      "torch.Size([273, 30, 60])\n",
      "Accuracy : 100.0\n"
     ]
    }
   ],
   "source": [
    "get_Accuracy(train_x, train_y)"
   ]
  },
  {
   "cell_type": "code",
   "execution_count": 61,
   "metadata": {},
   "outputs": [
    {
     "name": "stderr",
     "output_type": "stream",
     "text": [
      "/usr/local/lib/python3.5/dist-packages/torch/serialization.py:158: UserWarning: Couldn't retrieve source code for container of type ActionNet. It won't be checked for correctness upon loading.\n",
      "  \"type \" + obj.__name__ + \". It won't be checked \"\n"
     ]
    }
   ],
   "source": [
    "torch.save(net,\"action_net.pt\")"
   ]
  }
 ],
 "metadata": {
  "kernelspec": {
   "display_name": "Python 3",
   "language": "python",
   "name": "python3"
  },
  "language_info": {
   "codemirror_mode": {
    "name": "ipython",
    "version": 3
   },
   "file_extension": ".py",
   "mimetype": "text/x-python",
   "name": "python",
   "nbconvert_exporter": "python",
   "pygments_lexer": "ipython3",
   "version": "3.5.2"
  }
 },
 "nbformat": 4,
 "nbformat_minor": 2
}
